{
  "nbformat": 4,
  "nbformat_minor": 0,
  "metadata": {
    "colab": {
      "provenance": [],
      "include_colab_link": true
    },
    "kernelspec": {
      "name": "python3",
      "display_name": "Python 3"
    },
    "language_info": {
      "name": "python"
    }
  },
  "cells": [
    {
      "cell_type": "markdown",
      "metadata": {
        "id": "view-in-github",
        "colab_type": "text"
      },
      "source": [
        "<a href=\"https://colab.research.google.com/github/dumanzhusupov/MoviesFromServerToDatabase/blob/main/PySparkML_PySparkSQL.ipynb\" target=\"_parent\"><img src=\"https://colab.research.google.com/assets/colab-badge.svg\" alt=\"Open In Colab\"/></a>"
      ]
    },
    {
      "cell_type": "markdown",
      "source": [
        "# Инфраструктура для моделей машинного обучения. Практическая работа\n",
        "\n",
        "# Цель практической работы\n",
        "\n",
        "Потренироваться в использовании библиотек PySpark SQL и PySpark ML для предобработки данных и обучения моделей.\n",
        "\n",
        "# Что входит в практическую работу\n",
        "\n",
        "1. Инициализация спарк-сессии.\n",
        "2. Загрузка данных.\n",
        "3. Ознакомление с данными.\n",
        "4. Преобразование типов столбцов.\n",
        "5. Очистка данных.\n",
        "6. Feature-инжиниринг.\n",
        "7. Векторизация фичей.\n",
        "8. Создание и обучение модели.\n",
        "9. Выбор лучшей модели.\n",
        "10. Обратная связь.\n",
        "\n",
        "\n",
        "# Что оценивается\n",
        "\n",
        "- Пройдены все этапы работы.\n",
        "- Спарк-сессия успешно запущена.\n",
        "- Данные прочитаны.\n",
        "- Все колонки с числовыми значениями преобразованы в числовые типы данных (Int или Double).\n",
        "- Отфильтрованы все строки с Null-значениями.\n",
        "- Созданы новые фичи.\n",
        "- Все категориальные колонки преобразованы в числовой вид, выполнены все этапы векторизации признаков.\n",
        "- Выборка разделена на обучающую и тестовую.\n",
        "- Создано три объекта: модель, сетка гиперпараметров и evaluator.\n",
        "- Создан объект класса CrossValidator и обучен на обучающей выборке.\n",
        "- Выбрана лучшая модель, посчитана метрика качества лучшей модели.\n",
        "\n",
        "\n",
        "# Задача\n",
        "\n",
        "Используя данные о клиентах телекоммуникационной компании, обучите модель, предсказывающую их отток.\n",
        "\n",
        "Описание данных, с которыми вы будете работать:\n",
        "\n",
        "* **CustomerID**: ID клиента.\n",
        "* **Gender**: пол клиента.\n",
        "* **SeniorCitizen**: пенсионер ли клиент (1 — да, 0 — нет).\n",
        "* **Partner**: есть у клиента партнёр (жена, муж) или нет (Yes/No).\n",
        "* **Dependents**: есть ли у клиента инждивенцы, например дети (Yes/No).\n",
        "* **Tenure**: как много месяцев клиент оставался в компании.\n",
        "* **PhoneService**: подключена ли у клиента телефонная служба (Yes/No).\n",
        "* **MultipleLines**: подключено ли несколько телефонных линий (Yes, No, No phone service).\n",
        "* **InternetService**: интернет-провайдер клиента (DSL, Fiber optic, No).\n",
        "* **OnlineSecurity**: подключена ли у клиента услуга онлайн-безопасности (Yes, No, No internet service)\n",
        "* **OnlineBackup**: подключена ли услуга резервного копирования онлайн (Yes, No, No internet service).\n",
        "* **DeviceProtection**: подключена ли услуга защиты устройства (Yes, No, No internet service)\n",
        "* **TechSupport**: есть ли у клиента техническая поддержка (Yes, No, No internet service).\n",
        "* **StreamingTV**: подключена ли услуга потокового телевидения (Yes, No, No internet service).\n",
        "* **StreamingMovies**: подключена ли услуга стримингового воспроизведения фильмов (Yes, No, No internet service).\n",
        "* **Contract**: тип контракта клиента (Month-to-month, One year, Two year).\n",
        "* **PaperlessBilling**: есть ли безбумажный счёт.\n",
        "* **PaymentMethod**: способ оплаты услуг (Electronic check, Mailed check, Bank transfer (automatic), Credit card (automatic)).\n",
        "* **MonthlyCharges**: сумма, которая списывается ежемесячно.\n",
        "* **TotalCharges**: сумма, списанная за всё время.\n",
        "* **Churn**: ушёл ли клиент (Yes/No). Это целевая переменная, которую нужно предсказать.\n"
      ],
      "metadata": {
        "id": "p92rzC-2D71g"
      }
    },
    {
      "cell_type": "markdown",
      "source": [
        "# 1. Инициализация спарк-сессии"
      ],
      "metadata": {
        "id": "CZmr6VeYvLKB"
      }
    },
    {
      "cell_type": "markdown",
      "source": [
        "Инициализируйте спарк-сессию.\n",
        "\n",
        "Эта ячейка нужна для того, чтобы заргузить необходимые библиотеки и настроить окружение Google Colab для работы со Spark.\n",
        "\n",
        "Просто запустите её перед выполением задания :)"
      ],
      "metadata": {
        "id": "EO2v2cOjyZBN"
      }
    },
    {
      "cell_type": "code",
      "execution_count": 2,
      "metadata": {
        "id": "UuUc1cxHuymb"
      },
      "outputs": [],
      "source": [
        "!pip install pyspark --quiet\n",
        "!pip install -U -q PyDrive --quiet\n",
        "!apt install openjdk-8-jdk-headless &> /dev/null\n",
        "\n",
        "import os\n",
        "os.environ[\"JAVA_HOME\"] = \"/usr/lib/jvm/java-8-openjdk-amd64\"\n",
        "\n",
        "!wget https://bin.equinox.io/c/4VmDzA7iaHb/ngrok-stable-linux-amd64.zip &> /dev/null\n",
        "!unzip ngrok-stable-linux-amd64.zip &> /dev/null\n",
        "get_ipython().system_raw('./ngrok http 4050 &')\n"
      ]
    },
    {
      "cell_type": "code",
      "source": [
        "! pip install pyarrow"
      ],
      "metadata": {
        "colab": {
          "base_uri": "https://localhost:8080/"
        },
        "id": "jAD3UXsb3lCz",
        "outputId": "d0eb3296-a79b-444e-a050-ed13ed366236"
      },
      "execution_count": 3,
      "outputs": [
        {
          "output_type": "stream",
          "name": "stdout",
          "text": [
            "Requirement already satisfied: pyarrow in /usr/local/lib/python3.11/dist-packages (18.1.0)\n"
          ]
        }
      ]
    },
    {
      "cell_type": "code",
      "source": [
        "from pyspark.sql import SparkSession\n",
        "#/content/sample_data/WA_Fn-UseC_-Telco-Customer-Churn.csv\n",
        "\n",
        "spark = SparkSession.builder.getOrCreate()\n",
        "spark\n",
        "\n",
        "### Ваш код здесь ###"
      ],
      "metadata": {
        "id": "8Q743I78vA5_",
        "colab": {
          "base_uri": "https://localhost:8080/",
          "height": 219
        },
        "outputId": "a864685e-3605-4671-f743-6af4e1068b27"
      },
      "execution_count": 4,
      "outputs": [
        {
          "output_type": "execute_result",
          "data": {
            "text/plain": [
              "<pyspark.sql.session.SparkSession at 0x795bea4d1950>"
            ],
            "text/html": [
              "\n",
              "            <div>\n",
              "                <p><b>SparkSession - in-memory</b></p>\n",
              "                \n",
              "        <div>\n",
              "            <p><b>SparkContext</b></p>\n",
              "\n",
              "            <p><a href=\"http://d147b087a694:4040\">Spark UI</a></p>\n",
              "\n",
              "            <dl>\n",
              "              <dt>Version</dt>\n",
              "                <dd><code>v3.5.4</code></dd>\n",
              "              <dt>Master</dt>\n",
              "                <dd><code>local[*]</code></dd>\n",
              "              <dt>AppName</dt>\n",
              "                <dd><code>pyspark-shell</code></dd>\n",
              "            </dl>\n",
              "        </div>\n",
              "        \n",
              "            </div>\n",
              "        "
            ]
          },
          "metadata": {},
          "execution_count": 4
        }
      ]
    },
    {
      "cell_type": "markdown",
      "source": [
        "# 2. Загрузка данных\n",
        "Загрузите данные, сохраните их в переменную типа sparkDataframe, используя метод read.csv (не забывайте про header и delimiter)."
      ],
      "metadata": {
        "id": "e55O3aB5vo3k"
      }
    },
    {
      "cell_type": "code",
      "source": [
        "### Ваш код здесь ###\n",
        "data = spark.read.csv(\"/WA_Fn-UseC_-Telco-Customer-Churn.csv\", header=True, inferSchema=True)\n",
        "data.show()"
      ],
      "metadata": {
        "id": "1GVOybUCvlXy",
        "colab": {
          "base_uri": "https://localhost:8080/"
        },
        "outputId": "24a8cb67-5af8-4990-8002-9c9ffc73f77f"
      },
      "execution_count": 6,
      "outputs": [
        {
          "output_type": "stream",
          "name": "stdout",
          "text": [
            "+----------+------+-------------+-------+----------+------+------------+----------------+---------------+-------------------+-------------------+-------------------+-------------------+-------------------+-------------------+--------------+----------------+--------------------+--------------+------------+-----+\n",
            "|customerID|gender|SeniorCitizen|Partner|Dependents|tenure|PhoneService|   MultipleLines|InternetService|     OnlineSecurity|       OnlineBackup|   DeviceProtection|        TechSupport|        StreamingTV|    StreamingMovies|      Contract|PaperlessBilling|       PaymentMethod|MonthlyCharges|TotalCharges|Churn|\n",
            "+----------+------+-------------+-------+----------+------+------------+----------------+---------------+-------------------+-------------------+-------------------+-------------------+-------------------+-------------------+--------------+----------------+--------------------+--------------+------------+-----+\n",
            "|7590-VHVEG|Female|            0|    Yes|        No|     1|          No|No phone service|            DSL|                 No|                Yes|                 No|                 No|                 No|                 No|Month-to-month|             Yes|    Electronic check|         29.85|       29.85|   No|\n",
            "|5575-GNVDE|  Male|            0|     No|        No|    34|         Yes|              No|            DSL|                Yes|                 No|                Yes|                 No|                 No|                 No|      One year|              No|        Mailed check|         56.95|      1889.5|   No|\n",
            "|3668-QPYBK|  Male|            0|     No|        No|     2|         Yes|              No|            DSL|                Yes|                Yes|                 No|                 No|                 No|                 No|Month-to-month|             Yes|        Mailed check|         53.85|      108.15|  Yes|\n",
            "|7795-CFOCW|  Male|            0|     No|        No|    45|          No|No phone service|            DSL|                Yes|                 No|                Yes|                Yes|                 No|                 No|      One year|              No|Bank transfer (au...|          42.3|     1840.75|   No|\n",
            "|9237-HQITU|Female|            0|     No|        No|     2|         Yes|              No|    Fiber optic|                 No|                 No|                 No|                 No|                 No|                 No|Month-to-month|             Yes|    Electronic check|          70.7|      151.65|  Yes|\n",
            "|9305-CDSKC|Female|            0|     No|        No|     8|         Yes|             Yes|    Fiber optic|                 No|                 No|                Yes|                 No|                Yes|                Yes|Month-to-month|             Yes|    Electronic check|         99.65|       820.5|  Yes|\n",
            "|1452-KIOVK|  Male|            0|     No|       Yes|    22|         Yes|             Yes|    Fiber optic|                 No|                Yes|                 No|                 No|                Yes|                 No|Month-to-month|             Yes|Credit card (auto...|          89.1|      1949.4|   No|\n",
            "|6713-OKOMC|Female|            0|     No|        No|    10|          No|No phone service|            DSL|                Yes|                 No|                 No|                 No|                 No|                 No|Month-to-month|              No|        Mailed check|         29.75|       301.9|   No|\n",
            "|7892-POOKP|Female|            0|    Yes|        No|    28|         Yes|             Yes|    Fiber optic|                 No|                 No|                Yes|                Yes|                Yes|                Yes|Month-to-month|             Yes|    Electronic check|         104.8|     3046.05|  Yes|\n",
            "|6388-TABGU|  Male|            0|     No|       Yes|    62|         Yes|              No|            DSL|                Yes|                Yes|                 No|                 No|                 No|                 No|      One year|              No|Bank transfer (au...|         56.15|     3487.95|   No|\n",
            "|9763-GRSKD|  Male|            0|    Yes|       Yes|    13|         Yes|              No|            DSL|                Yes|                 No|                 No|                 No|                 No|                 No|Month-to-month|             Yes|        Mailed check|         49.95|      587.45|   No|\n",
            "|7469-LKBCI|  Male|            0|     No|        No|    16|         Yes|              No|             No|No internet service|No internet service|No internet service|No internet service|No internet service|No internet service|      Two year|              No|Credit card (auto...|         18.95|       326.8|   No|\n",
            "|8091-TTVAX|  Male|            0|    Yes|        No|    58|         Yes|             Yes|    Fiber optic|                 No|                 No|                Yes|                 No|                Yes|                Yes|      One year|              No|Credit card (auto...|        100.35|      5681.1|   No|\n",
            "|0280-XJGEX|  Male|            0|     No|        No|    49|         Yes|             Yes|    Fiber optic|                 No|                Yes|                Yes|                 No|                Yes|                Yes|Month-to-month|             Yes|Bank transfer (au...|         103.7|      5036.3|  Yes|\n",
            "|5129-JLPIS|  Male|            0|     No|        No|    25|         Yes|              No|    Fiber optic|                Yes|                 No|                Yes|                Yes|                Yes|                Yes|Month-to-month|             Yes|    Electronic check|         105.5|     2686.05|   No|\n",
            "|3655-SNQYZ|Female|            0|    Yes|       Yes|    69|         Yes|             Yes|    Fiber optic|                Yes|                Yes|                Yes|                Yes|                Yes|                Yes|      Two year|              No|Credit card (auto...|        113.25|     7895.15|   No|\n",
            "|8191-XWSZG|Female|            0|     No|        No|    52|         Yes|              No|             No|No internet service|No internet service|No internet service|No internet service|No internet service|No internet service|      One year|              No|        Mailed check|         20.65|     1022.95|   No|\n",
            "|9959-WOFKT|  Male|            0|     No|       Yes|    71|         Yes|             Yes|    Fiber optic|                Yes|                 No|                Yes|                 No|                Yes|                Yes|      Two year|              No|Bank transfer (au...|         106.7|     7382.25|   No|\n",
            "|4190-MFLUW|Female|            0|    Yes|       Yes|    10|         Yes|              No|            DSL|                 No|                 No|                Yes|                Yes|                 No|                 No|Month-to-month|              No|Credit card (auto...|          55.2|      528.35|  Yes|\n",
            "|4183-MYFRB|Female|            0|     No|        No|    21|         Yes|              No|    Fiber optic|                 No|                Yes|                Yes|                 No|                 No|                Yes|Month-to-month|             Yes|    Electronic check|         90.05|      1862.9|   No|\n",
            "+----------+------+-------------+-------+----------+------+------------+----------------+---------------+-------------------+-------------------+-------------------+-------------------+-------------------+-------------------+--------------+----------------+--------------------+--------------+------------+-----+\n",
            "only showing top 20 rows\n",
            "\n"
          ]
        }
      ]
    },
    {
      "cell_type": "code",
      "source": [
        "toDoubleColumns = ['MonthlyCharges', 'TotalCharges']\n",
        "toIntColumns = ['tenure','SeniorCitizen']"
      ],
      "metadata": {
        "id": "VV71Rq4y5wqq"
      },
      "execution_count": 7,
      "outputs": []
    },
    {
      "cell_type": "code",
      "source": [
        "data.printSchema()"
      ],
      "metadata": {
        "colab": {
          "base_uri": "https://localhost:8080/"
        },
        "id": "jwufC8UK4Nuj",
        "outputId": "becb8126-ee9c-4f1d-c9a9-441519abe7d4"
      },
      "execution_count": 8,
      "outputs": [
        {
          "output_type": "stream",
          "name": "stdout",
          "text": [
            "root\n",
            " |-- customerID: string (nullable = true)\n",
            " |-- gender: string (nullable = true)\n",
            " |-- SeniorCitizen: integer (nullable = true)\n",
            " |-- Partner: string (nullable = true)\n",
            " |-- Dependents: string (nullable = true)\n",
            " |-- tenure: integer (nullable = true)\n",
            " |-- PhoneService: string (nullable = true)\n",
            " |-- MultipleLines: string (nullable = true)\n",
            " |-- InternetService: string (nullable = true)\n",
            " |-- OnlineSecurity: string (nullable = true)\n",
            " |-- OnlineBackup: string (nullable = true)\n",
            " |-- DeviceProtection: string (nullable = true)\n",
            " |-- TechSupport: string (nullable = true)\n",
            " |-- StreamingTV: string (nullable = true)\n",
            " |-- StreamingMovies: string (nullable = true)\n",
            " |-- Contract: string (nullable = true)\n",
            " |-- PaperlessBilling: string (nullable = true)\n",
            " |-- PaymentMethod: string (nullable = true)\n",
            " |-- MonthlyCharges: double (nullable = true)\n",
            " |-- TotalCharges: string (nullable = true)\n",
            " |-- Churn: string (nullable = true)\n",
            "\n"
          ]
        }
      ]
    },
    {
      "cell_type": "code",
      "source": [
        "data.printSchema()"
      ],
      "metadata": {
        "colab": {
          "base_uri": "https://localhost:8080/"
        },
        "id": "6duPjULj5aJr",
        "outputId": "6bfa0f64-06c2-49d1-89ea-a2336d6f2d62"
      },
      "execution_count": 9,
      "outputs": [
        {
          "output_type": "stream",
          "name": "stdout",
          "text": [
            "root\n",
            " |-- customerID: string (nullable = true)\n",
            " |-- gender: string (nullable = true)\n",
            " |-- SeniorCitizen: integer (nullable = true)\n",
            " |-- Partner: string (nullable = true)\n",
            " |-- Dependents: string (nullable = true)\n",
            " |-- tenure: integer (nullable = true)\n",
            " |-- PhoneService: string (nullable = true)\n",
            " |-- MultipleLines: string (nullable = true)\n",
            " |-- InternetService: string (nullable = true)\n",
            " |-- OnlineSecurity: string (nullable = true)\n",
            " |-- OnlineBackup: string (nullable = true)\n",
            " |-- DeviceProtection: string (nullable = true)\n",
            " |-- TechSupport: string (nullable = true)\n",
            " |-- StreamingTV: string (nullable = true)\n",
            " |-- StreamingMovies: string (nullable = true)\n",
            " |-- Contract: string (nullable = true)\n",
            " |-- PaperlessBilling: string (nullable = true)\n",
            " |-- PaymentMethod: string (nullable = true)\n",
            " |-- MonthlyCharges: double (nullable = true)\n",
            " |-- TotalCharges: string (nullable = true)\n",
            " |-- Churn: string (nullable = true)\n",
            "\n"
          ]
        }
      ]
    },
    {
      "cell_type": "code",
      "source": [
        "data.show()"
      ],
      "metadata": {
        "colab": {
          "base_uri": "https://localhost:8080/"
        },
        "id": "4TTOtkXc5ra0",
        "outputId": "882d80c4-cb1f-4d5e-9e98-a96577a88be8"
      },
      "execution_count": 10,
      "outputs": [
        {
          "output_type": "stream",
          "name": "stdout",
          "text": [
            "+----------+------+-------------+-------+----------+------+------------+----------------+---------------+-------------------+-------------------+-------------------+-------------------+-------------------+-------------------+--------------+----------------+--------------------+--------------+------------+-----+\n",
            "|customerID|gender|SeniorCitizen|Partner|Dependents|tenure|PhoneService|   MultipleLines|InternetService|     OnlineSecurity|       OnlineBackup|   DeviceProtection|        TechSupport|        StreamingTV|    StreamingMovies|      Contract|PaperlessBilling|       PaymentMethod|MonthlyCharges|TotalCharges|Churn|\n",
            "+----------+------+-------------+-------+----------+------+------------+----------------+---------------+-------------------+-------------------+-------------------+-------------------+-------------------+-------------------+--------------+----------------+--------------------+--------------+------------+-----+\n",
            "|7590-VHVEG|Female|            0|    Yes|        No|     1|          No|No phone service|            DSL|                 No|                Yes|                 No|                 No|                 No|                 No|Month-to-month|             Yes|    Electronic check|         29.85|       29.85|   No|\n",
            "|5575-GNVDE|  Male|            0|     No|        No|    34|         Yes|              No|            DSL|                Yes|                 No|                Yes|                 No|                 No|                 No|      One year|              No|        Mailed check|         56.95|      1889.5|   No|\n",
            "|3668-QPYBK|  Male|            0|     No|        No|     2|         Yes|              No|            DSL|                Yes|                Yes|                 No|                 No|                 No|                 No|Month-to-month|             Yes|        Mailed check|         53.85|      108.15|  Yes|\n",
            "|7795-CFOCW|  Male|            0|     No|        No|    45|          No|No phone service|            DSL|                Yes|                 No|                Yes|                Yes|                 No|                 No|      One year|              No|Bank transfer (au...|          42.3|     1840.75|   No|\n",
            "|9237-HQITU|Female|            0|     No|        No|     2|         Yes|              No|    Fiber optic|                 No|                 No|                 No|                 No|                 No|                 No|Month-to-month|             Yes|    Electronic check|          70.7|      151.65|  Yes|\n",
            "|9305-CDSKC|Female|            0|     No|        No|     8|         Yes|             Yes|    Fiber optic|                 No|                 No|                Yes|                 No|                Yes|                Yes|Month-to-month|             Yes|    Electronic check|         99.65|       820.5|  Yes|\n",
            "|1452-KIOVK|  Male|            0|     No|       Yes|    22|         Yes|             Yes|    Fiber optic|                 No|                Yes|                 No|                 No|                Yes|                 No|Month-to-month|             Yes|Credit card (auto...|          89.1|      1949.4|   No|\n",
            "|6713-OKOMC|Female|            0|     No|        No|    10|          No|No phone service|            DSL|                Yes|                 No|                 No|                 No|                 No|                 No|Month-to-month|              No|        Mailed check|         29.75|       301.9|   No|\n",
            "|7892-POOKP|Female|            0|    Yes|        No|    28|         Yes|             Yes|    Fiber optic|                 No|                 No|                Yes|                Yes|                Yes|                Yes|Month-to-month|             Yes|    Electronic check|         104.8|     3046.05|  Yes|\n",
            "|6388-TABGU|  Male|            0|     No|       Yes|    62|         Yes|              No|            DSL|                Yes|                Yes|                 No|                 No|                 No|                 No|      One year|              No|Bank transfer (au...|         56.15|     3487.95|   No|\n",
            "|9763-GRSKD|  Male|            0|    Yes|       Yes|    13|         Yes|              No|            DSL|                Yes|                 No|                 No|                 No|                 No|                 No|Month-to-month|             Yes|        Mailed check|         49.95|      587.45|   No|\n",
            "|7469-LKBCI|  Male|            0|     No|        No|    16|         Yes|              No|             No|No internet service|No internet service|No internet service|No internet service|No internet service|No internet service|      Two year|              No|Credit card (auto...|         18.95|       326.8|   No|\n",
            "|8091-TTVAX|  Male|            0|    Yes|        No|    58|         Yes|             Yes|    Fiber optic|                 No|                 No|                Yes|                 No|                Yes|                Yes|      One year|              No|Credit card (auto...|        100.35|      5681.1|   No|\n",
            "|0280-XJGEX|  Male|            0|     No|        No|    49|         Yes|             Yes|    Fiber optic|                 No|                Yes|                Yes|                 No|                Yes|                Yes|Month-to-month|             Yes|Bank transfer (au...|         103.7|      5036.3|  Yes|\n",
            "|5129-JLPIS|  Male|            0|     No|        No|    25|         Yes|              No|    Fiber optic|                Yes|                 No|                Yes|                Yes|                Yes|                Yes|Month-to-month|             Yes|    Electronic check|         105.5|     2686.05|   No|\n",
            "|3655-SNQYZ|Female|            0|    Yes|       Yes|    69|         Yes|             Yes|    Fiber optic|                Yes|                Yes|                Yes|                Yes|                Yes|                Yes|      Two year|              No|Credit card (auto...|        113.25|     7895.15|   No|\n",
            "|8191-XWSZG|Female|            0|     No|        No|    52|         Yes|              No|             No|No internet service|No internet service|No internet service|No internet service|No internet service|No internet service|      One year|              No|        Mailed check|         20.65|     1022.95|   No|\n",
            "|9959-WOFKT|  Male|            0|     No|       Yes|    71|         Yes|             Yes|    Fiber optic|                Yes|                 No|                Yes|                 No|                Yes|                Yes|      Two year|              No|Bank transfer (au...|         106.7|     7382.25|   No|\n",
            "|4190-MFLUW|Female|            0|    Yes|       Yes|    10|         Yes|              No|            DSL|                 No|                 No|                Yes|                Yes|                 No|                 No|Month-to-month|              No|Credit card (auto...|          55.2|      528.35|  Yes|\n",
            "|4183-MYFRB|Female|            0|     No|        No|    21|         Yes|              No|    Fiber optic|                 No|                Yes|                Yes|                 No|                 No|                Yes|Month-to-month|             Yes|    Electronic check|         90.05|      1862.9|   No|\n",
            "+----------+------+-------------+-------+----------+------+------------+----------------+---------------+-------------------+-------------------+-------------------+-------------------+-------------------+-------------------+--------------+----------------+--------------------+--------------+------------+-----+\n",
            "only showing top 20 rows\n",
            "\n"
          ]
        }
      ]
    },
    {
      "cell_type": "code",
      "source": [
        "for col in data.columns:\n",
        "    print(col, data.filter(data[col].isNull()).count())"
      ],
      "metadata": {
        "colab": {
          "base_uri": "https://localhost:8080/"
        },
        "id": "HdXAmA8_4jkk",
        "outputId": "61431117-772a-480d-8b3e-a40055812eb2"
      },
      "execution_count": 11,
      "outputs": [
        {
          "output_type": "stream",
          "name": "stdout",
          "text": [
            "customerID 0\n",
            "gender 0\n",
            "SeniorCitizen 0\n",
            "Partner 0\n",
            "Dependents 0\n",
            "tenure 0\n",
            "PhoneService 0\n",
            "MultipleLines 0\n",
            "InternetService 0\n",
            "OnlineSecurity 0\n",
            "OnlineBackup 0\n",
            "DeviceProtection 0\n",
            "TechSupport 0\n",
            "StreamingTV 0\n",
            "StreamingMovies 0\n",
            "Contract 0\n",
            "PaperlessBilling 0\n",
            "PaymentMethod 0\n",
            "MonthlyCharges 0\n",
            "TotalCharges 0\n",
            "Churn 0\n"
          ]
        }
      ]
    },
    {
      "cell_type": "code",
      "source": [
        "data.pandas_api().isna().sum()"
      ],
      "metadata": {
        "colab": {
          "base_uri": "https://localhost:8080/"
        },
        "id": "AGcEzTck6iGr",
        "outputId": "66c0633d-a73b-4d5d-f61c-717408c4017d"
      },
      "execution_count": 12,
      "outputs": [
        {
          "output_type": "stream",
          "name": "stderr",
          "text": [
            "/usr/local/lib/python3.11/dist-packages/pyspark/pandas/__init__.py:50: UserWarning: 'PYARROW_IGNORE_TIMEZONE' environment variable was not set. It is required to set this environment variable to '1' in both driver and executor sides if you use pyarrow>=2.0.0. pandas-on-Spark will set it for you but it does not work if there is a Spark context already launched.\n",
            "  warnings.warn(\n"
          ]
        },
        {
          "output_type": "execute_result",
          "data": {
            "text/plain": [
              "customerID          0\n",
              "gender              0\n",
              "SeniorCitizen       0\n",
              "Partner             0\n",
              "Dependents          0\n",
              "tenure              0\n",
              "PhoneService        0\n",
              "MultipleLines       0\n",
              "InternetService     0\n",
              "OnlineSecurity      0\n",
              "OnlineBackup        0\n",
              "DeviceProtection    0\n",
              "TechSupport         0\n",
              "StreamingTV         0\n",
              "StreamingMovies     0\n",
              "Contract            0\n",
              "PaperlessBilling    0\n",
              "PaymentMethod       0\n",
              "MonthlyCharges      0\n",
              "TotalCharges        0\n",
              "Churn               0\n",
              "dtype: int64"
            ]
          },
          "metadata": {},
          "execution_count": 12
        }
      ]
    },
    {
      "cell_type": "markdown",
      "source": [
        "# 3. Ознакомление с данными\n",
        "1. Выведите на экран первые несколько строк датафрейма.\n"
      ],
      "metadata": {
        "id": "k8amaWNGzDsf"
      }
    },
    {
      "cell_type": "code",
      "source": [
        "### Ваш код здесь ###\n",
        "data.show(5)"
      ],
      "metadata": {
        "id": "bPfkFFUoz19Y",
        "colab": {
          "base_uri": "https://localhost:8080/"
        },
        "outputId": "c0be2f41-4579-4e7b-9471-6899baa9b726"
      },
      "execution_count": 13,
      "outputs": [
        {
          "output_type": "stream",
          "name": "stdout",
          "text": [
            "+----------+------+-------------+-------+----------+------+------------+----------------+---------------+--------------+------------+----------------+-----------+-----------+---------------+--------------+----------------+--------------------+--------------+------------+-----+\n",
            "|customerID|gender|SeniorCitizen|Partner|Dependents|tenure|PhoneService|   MultipleLines|InternetService|OnlineSecurity|OnlineBackup|DeviceProtection|TechSupport|StreamingTV|StreamingMovies|      Contract|PaperlessBilling|       PaymentMethod|MonthlyCharges|TotalCharges|Churn|\n",
            "+----------+------+-------------+-------+----------+------+------------+----------------+---------------+--------------+------------+----------------+-----------+-----------+---------------+--------------+----------------+--------------------+--------------+------------+-----+\n",
            "|7590-VHVEG|Female|            0|    Yes|        No|     1|          No|No phone service|            DSL|            No|         Yes|              No|         No|         No|             No|Month-to-month|             Yes|    Electronic check|         29.85|       29.85|   No|\n",
            "|5575-GNVDE|  Male|            0|     No|        No|    34|         Yes|              No|            DSL|           Yes|          No|             Yes|         No|         No|             No|      One year|              No|        Mailed check|         56.95|      1889.5|   No|\n",
            "|3668-QPYBK|  Male|            0|     No|        No|     2|         Yes|              No|            DSL|           Yes|         Yes|              No|         No|         No|             No|Month-to-month|             Yes|        Mailed check|         53.85|      108.15|  Yes|\n",
            "|7795-CFOCW|  Male|            0|     No|        No|    45|          No|No phone service|            DSL|           Yes|          No|             Yes|        Yes|         No|             No|      One year|              No|Bank transfer (au...|          42.3|     1840.75|   No|\n",
            "|9237-HQITU|Female|            0|     No|        No|     2|         Yes|              No|    Fiber optic|            No|          No|              No|         No|         No|             No|Month-to-month|             Yes|    Electronic check|          70.7|      151.65|  Yes|\n",
            "+----------+------+-------------+-------+----------+------+------------+----------------+---------------+--------------+------------+----------------+-----------+-----------+---------------+--------------+----------------+--------------------+--------------+------------+-----+\n",
            "only showing top 5 rows\n",
            "\n"
          ]
        }
      ]
    },
    {
      "cell_type": "markdown",
      "source": [
        "\n",
        "2. Выведите общее количество строк датафрейма.\n",
        "\n"
      ],
      "metadata": {
        "id": "vMgX25wr0JfV"
      }
    },
    {
      "cell_type": "code",
      "source": [
        "### Ваш код здесь ###\n",
        "data.pandas_api().shape"
      ],
      "metadata": {
        "id": "ivgw172qz9o_",
        "colab": {
          "base_uri": "https://localhost:8080/"
        },
        "outputId": "722508ef-395b-409e-abdc-aab6fb91c001"
      },
      "execution_count": 14,
      "outputs": [
        {
          "output_type": "execute_result",
          "data": {
            "text/plain": [
              "(7043, 21)"
            ]
          },
          "metadata": {},
          "execution_count": 14
        }
      ]
    },
    {
      "cell_type": "markdown",
      "source": [
        "3. Выведите структуру (схему) датафрейма."
      ],
      "metadata": {
        "id": "xCAeIZFe0KyY"
      }
    },
    {
      "cell_type": "code",
      "source": [
        "### Ваш код здесь ###\n",
        "data.printSchema()"
      ],
      "metadata": {
        "id": "KmZY25zX0Fd5",
        "colab": {
          "base_uri": "https://localhost:8080/"
        },
        "outputId": "d8f83fd8-8ceb-4c29-b1fc-410447229380"
      },
      "execution_count": 15,
      "outputs": [
        {
          "output_type": "stream",
          "name": "stdout",
          "text": [
            "root\n",
            " |-- customerID: string (nullable = true)\n",
            " |-- gender: string (nullable = true)\n",
            " |-- SeniorCitizen: integer (nullable = true)\n",
            " |-- Partner: string (nullable = true)\n",
            " |-- Dependents: string (nullable = true)\n",
            " |-- tenure: integer (nullable = true)\n",
            " |-- PhoneService: string (nullable = true)\n",
            " |-- MultipleLines: string (nullable = true)\n",
            " |-- InternetService: string (nullable = true)\n",
            " |-- OnlineSecurity: string (nullable = true)\n",
            " |-- OnlineBackup: string (nullable = true)\n",
            " |-- DeviceProtection: string (nullable = true)\n",
            " |-- TechSupport: string (nullable = true)\n",
            " |-- StreamingTV: string (nullable = true)\n",
            " |-- StreamingMovies: string (nullable = true)\n",
            " |-- Contract: string (nullable = true)\n",
            " |-- PaperlessBilling: string (nullable = true)\n",
            " |-- PaymentMethod: string (nullable = true)\n",
            " |-- MonthlyCharges: double (nullable = true)\n",
            " |-- TotalCharges: string (nullable = true)\n",
            " |-- Churn: string (nullable = true)\n",
            "\n"
          ]
        }
      ]
    },
    {
      "cell_type": "markdown",
      "source": [
        "# 4. Преобразование типов столбцов\n",
        "Преобразуйте тип столбцов у числовых признаков (Int — если признак целочисленный, Double — если признак не целочисленный). Сохраните преобразованный датафрейм в новую переменную.\n",
        "\n",
        "## Совет\n",
        "\n",
        "Если вам сложно выполнить это задание, изучите дополнительные материалы: [об операторе Cast](https://sparkbyexamples.com/pyspark/pyspark-cast-column-type/), [об операторе Select](https://sparkbyexamples.com/pyspark/select-columns-from-pyspark-dataframe/).\n",
        "\n"
      ],
      "metadata": {
        "id": "DFcKPAI_0cF7"
      }
    },
    {
      "cell_type": "code",
      "source": [
        "from pyspark.sql.functions import expr, col\n",
        "\n",
        "#Cast to Int\n",
        "for col in toIntColumns:\n",
        "  data = data.withColumn(col, data[col].cast(\"Int\"))\n",
        "#cast to Double\n",
        "for col in toDoubleColumns:\n",
        "  data = data.withColumn(col, data[col].cast(\"Double\"))\n",
        "#cast to Int\n",
        "### Ваш код здесь ###"
      ],
      "metadata": {
        "id": "Kihtrqni0-Js"
      },
      "execution_count": 16,
      "outputs": []
    },
    {
      "cell_type": "markdown",
      "source": [
        "# 5. Очистка данных\n",
        "Проверьте, есть ли в какой-либо колонке Null-значения. Для этого можно использовать your_dataframe.filter(col(\"colname\")).isNull()).\n",
        "\n",
        "Выведите на экран несколько строк с Null-значениями в одной из колонок.\n",
        "\n",
        "Сохраните очищенный от строк с Null-значениями датафрейм в новую переменную. Для фильтрации этих значений можно использовать метод .isNotNull().\n",
        "\n",
        "Колонок в датафрейме много, проверять каждую неудобно и долго. Подумайте, как упроситить эту работу, если использовать, например, перебор с циклом for.\n",
        "\n",
        "[Примеры использования операторов isNull() и isNotNull()](https://sparkbyexamples.com/pyspark/pyspark-isnull/).\n"
      ],
      "metadata": {
        "id": "1hBBiIm350BD"
      }
    },
    {
      "cell_type": "code",
      "source": [
        "### Ваш код здесь ###\n",
        "\n",
        "data.filter(\"TotalCharges is NULL\").show()"
      ],
      "metadata": {
        "id": "A0FTVvpg6_iy",
        "colab": {
          "base_uri": "https://localhost:8080/"
        },
        "outputId": "67511d0d-734e-45fe-fb9a-66a19b9951f2"
      },
      "execution_count": 17,
      "outputs": [
        {
          "output_type": "stream",
          "name": "stdout",
          "text": [
            "+----------+------+-------------+-------+----------+------+------------+----------------+---------------+-------------------+-------------------+-------------------+-------------------+-------------------+-------------------+--------+----------------+--------------------+--------------+------------+-----+\n",
            "|customerID|gender|SeniorCitizen|Partner|Dependents|tenure|PhoneService|   MultipleLines|InternetService|     OnlineSecurity|       OnlineBackup|   DeviceProtection|        TechSupport|        StreamingTV|    StreamingMovies|Contract|PaperlessBilling|       PaymentMethod|MonthlyCharges|TotalCharges|Churn|\n",
            "+----------+------+-------------+-------+----------+------+------------+----------------+---------------+-------------------+-------------------+-------------------+-------------------+-------------------+-------------------+--------+----------------+--------------------+--------------+------------+-----+\n",
            "|4472-LVYGI|Female|            0|    Yes|       Yes|     0|          No|No phone service|            DSL|                Yes|                 No|                Yes|                Yes|                Yes|                 No|Two year|             Yes|Bank transfer (au...|         52.55|        NULL|   No|\n",
            "|3115-CZMZD|  Male|            0|     No|       Yes|     0|         Yes|              No|             No|No internet service|No internet service|No internet service|No internet service|No internet service|No internet service|Two year|              No|        Mailed check|         20.25|        NULL|   No|\n",
            "|5709-LVOEQ|Female|            0|    Yes|       Yes|     0|         Yes|              No|            DSL|                Yes|                Yes|                Yes|                 No|                Yes|                Yes|Two year|              No|        Mailed check|         80.85|        NULL|   No|\n",
            "|4367-NUYAO|  Male|            0|    Yes|       Yes|     0|         Yes|             Yes|             No|No internet service|No internet service|No internet service|No internet service|No internet service|No internet service|Two year|              No|        Mailed check|         25.75|        NULL|   No|\n",
            "|1371-DWPAZ|Female|            0|    Yes|       Yes|     0|          No|No phone service|            DSL|                Yes|                Yes|                Yes|                Yes|                Yes|                 No|Two year|              No|Credit card (auto...|         56.05|        NULL|   No|\n",
            "|7644-OMVMY|  Male|            0|    Yes|       Yes|     0|         Yes|              No|             No|No internet service|No internet service|No internet service|No internet service|No internet service|No internet service|Two year|              No|        Mailed check|         19.85|        NULL|   No|\n",
            "|3213-VVOLG|  Male|            0|    Yes|       Yes|     0|         Yes|             Yes|             No|No internet service|No internet service|No internet service|No internet service|No internet service|No internet service|Two year|              No|        Mailed check|         25.35|        NULL|   No|\n",
            "|2520-SGTTA|Female|            0|    Yes|       Yes|     0|         Yes|              No|             No|No internet service|No internet service|No internet service|No internet service|No internet service|No internet service|Two year|              No|        Mailed check|          20.0|        NULL|   No|\n",
            "|2923-ARZLG|  Male|            0|    Yes|       Yes|     0|         Yes|              No|             No|No internet service|No internet service|No internet service|No internet service|No internet service|No internet service|One year|             Yes|        Mailed check|          19.7|        NULL|   No|\n",
            "|4075-WKNIU|Female|            0|    Yes|       Yes|     0|         Yes|             Yes|            DSL|                 No|                Yes|                Yes|                Yes|                Yes|                 No|Two year|              No|        Mailed check|         73.35|        NULL|   No|\n",
            "|2775-SEFEE|  Male|            0|     No|       Yes|     0|         Yes|             Yes|            DSL|                Yes|                Yes|                 No|                Yes|                 No|                 No|Two year|             Yes|Bank transfer (au...|          61.9|        NULL|   No|\n",
            "+----------+------+-------------+-------+----------+------+------------+----------------+---------------+-------------------+-------------------+-------------------+-------------------+-------------------+-------------------+--------+----------------+--------------------+--------------+------------+-----+\n",
            "\n"
          ]
        }
      ]
    },
    {
      "cell_type": "code",
      "source": [
        "data = data.fillna(0)"
      ],
      "metadata": {
        "id": "pNan-6vGBsNi"
      },
      "execution_count": 18,
      "outputs": []
    },
    {
      "cell_type": "code",
      "source": [
        "\n",
        "data.filter(\"TotalCharges is NULL\").show()"
      ],
      "metadata": {
        "colab": {
          "base_uri": "https://localhost:8080/"
        },
        "id": "0PpiHN4eAly6",
        "outputId": "fd063860-4acc-4003-8108-1bfd84dc6bc3"
      },
      "execution_count": 19,
      "outputs": [
        {
          "output_type": "stream",
          "name": "stdout",
          "text": [
            "+----------+------+-------------+-------+----------+------+------------+-------------+---------------+--------------+------------+----------------+-----------+-----------+---------------+--------+----------------+-------------+--------------+------------+-----+\n",
            "|customerID|gender|SeniorCitizen|Partner|Dependents|tenure|PhoneService|MultipleLines|InternetService|OnlineSecurity|OnlineBackup|DeviceProtection|TechSupport|StreamingTV|StreamingMovies|Contract|PaperlessBilling|PaymentMethod|MonthlyCharges|TotalCharges|Churn|\n",
            "+----------+------+-------------+-------+----------+------+------------+-------------+---------------+--------------+------------+----------------+-----------+-----------+---------------+--------+----------------+-------------+--------------+------------+-----+\n",
            "+----------+------+-------------+-------+----------+------+------------+-------------+---------------+--------------+------------+----------------+-----------+-----------+---------------+--------+----------------+-------------+--------------+------------+-----+\n",
            "\n"
          ]
        }
      ]
    },
    {
      "cell_type": "code",
      "source": [
        "data.pandas_api().isna().sum()"
      ],
      "metadata": {
        "colab": {
          "base_uri": "https://localhost:8080/"
        },
        "id": "YPjNVDsmB_zJ",
        "outputId": "b4850df1-6b5f-48cd-cd12-66d321e9b659"
      },
      "execution_count": 20,
      "outputs": [
        {
          "output_type": "execute_result",
          "data": {
            "text/plain": [
              "customerID          0\n",
              "gender              0\n",
              "SeniorCitizen       0\n",
              "Partner             0\n",
              "Dependents          0\n",
              "tenure              0\n",
              "PhoneService        0\n",
              "MultipleLines       0\n",
              "InternetService     0\n",
              "OnlineSecurity      0\n",
              "OnlineBackup        0\n",
              "DeviceProtection    0\n",
              "TechSupport         0\n",
              "StreamingTV         0\n",
              "StreamingMovies     0\n",
              "Contract            0\n",
              "PaperlessBilling    0\n",
              "PaymentMethod       0\n",
              "MonthlyCharges      0\n",
              "TotalCharges        0\n",
              "Churn               0\n",
              "dtype: int64"
            ]
          },
          "metadata": {},
          "execution_count": 20
        }
      ]
    },
    {
      "cell_type": "markdown",
      "source": [
        "# 6. Feature-инжиниринг\n",
        "Добавьте в датафрейм одну или несколько новых фичей. Удалите колонки, которые, как вам кажется, нужно убрать из фичей. Обоснуйте свои решения."
      ],
      "metadata": {
        "id": "fMRcAbphNBEP"
      }
    },
    {
      "cell_type": "markdown",
      "source": [
        "Нужно точно удалить кастомер айди колонку, так как он не влияет на отток клиентов.\n",
        "А из новых признаков которые будут вляит на отток или отказ клиента от услуг, будет признак который покажет является ли продливал ли клиент наши услуги в прошлом. Так как если после контракта уже продливал еще раз, то он склонен дальше продлевать, а если нет менее склонен. Будем считать их как: tenure >=  Длительность контракта в месяцах.(Берем только долгосроные контракты). Так же те кто взял долгосрочный контракт то он вряд-ли будет отазыватся, так как после долгосрочного контракта они менее склонны к оттоку.  "
      ],
      "metadata": {
        "id": "hPonGNIhCKNH"
      }
    },
    {
      "cell_type": "code",
      "source": [
        "from pyspark.sql.functions import when\n",
        "\n",
        "print(data.select(data[\"Contract\"]).distinct().show())\n",
        "data_edit = data.withColumn(\"Contract_lasting\",\n",
        "                when(data[\"Contract\"] == \"Two year\", 24)\n",
        "                .when(data[\"Contract\"] == \"One year\", 12)\n",
        "                .otherwise(0))\n",
        "data_edit.show()\n",
        "### Ваш код здесь ###"
      ],
      "metadata": {
        "id": "6SZ_rocx79oY",
        "colab": {
          "base_uri": "https://localhost:8080/"
        },
        "outputId": "a49dfef1-35af-4eb0-d898-25401f167e18"
      },
      "execution_count": 21,
      "outputs": [
        {
          "output_type": "stream",
          "name": "stdout",
          "text": [
            "+--------------+\n",
            "|      Contract|\n",
            "+--------------+\n",
            "|Month-to-month|\n",
            "|      One year|\n",
            "|      Two year|\n",
            "+--------------+\n",
            "\n",
            "None\n",
            "+----------+------+-------------+-------+----------+------+------------+----------------+---------------+-------------------+-------------------+-------------------+-------------------+-------------------+-------------------+--------------+----------------+--------------------+--------------+------------+-----+----------------+\n",
            "|customerID|gender|SeniorCitizen|Partner|Dependents|tenure|PhoneService|   MultipleLines|InternetService|     OnlineSecurity|       OnlineBackup|   DeviceProtection|        TechSupport|        StreamingTV|    StreamingMovies|      Contract|PaperlessBilling|       PaymentMethod|MonthlyCharges|TotalCharges|Churn|Contract_lasting|\n",
            "+----------+------+-------------+-------+----------+------+------------+----------------+---------------+-------------------+-------------------+-------------------+-------------------+-------------------+-------------------+--------------+----------------+--------------------+--------------+------------+-----+----------------+\n",
            "|7590-VHVEG|Female|            0|    Yes|        No|     1|          No|No phone service|            DSL|                 No|                Yes|                 No|                 No|                 No|                 No|Month-to-month|             Yes|    Electronic check|         29.85|       29.85|   No|               0|\n",
            "|5575-GNVDE|  Male|            0|     No|        No|    34|         Yes|              No|            DSL|                Yes|                 No|                Yes|                 No|                 No|                 No|      One year|              No|        Mailed check|         56.95|      1889.5|   No|              12|\n",
            "|3668-QPYBK|  Male|            0|     No|        No|     2|         Yes|              No|            DSL|                Yes|                Yes|                 No|                 No|                 No|                 No|Month-to-month|             Yes|        Mailed check|         53.85|      108.15|  Yes|               0|\n",
            "|7795-CFOCW|  Male|            0|     No|        No|    45|          No|No phone service|            DSL|                Yes|                 No|                Yes|                Yes|                 No|                 No|      One year|              No|Bank transfer (au...|          42.3|     1840.75|   No|              12|\n",
            "|9237-HQITU|Female|            0|     No|        No|     2|         Yes|              No|    Fiber optic|                 No|                 No|                 No|                 No|                 No|                 No|Month-to-month|             Yes|    Electronic check|          70.7|      151.65|  Yes|               0|\n",
            "|9305-CDSKC|Female|            0|     No|        No|     8|         Yes|             Yes|    Fiber optic|                 No|                 No|                Yes|                 No|                Yes|                Yes|Month-to-month|             Yes|    Electronic check|         99.65|       820.5|  Yes|               0|\n",
            "|1452-KIOVK|  Male|            0|     No|       Yes|    22|         Yes|             Yes|    Fiber optic|                 No|                Yes|                 No|                 No|                Yes|                 No|Month-to-month|             Yes|Credit card (auto...|          89.1|      1949.4|   No|               0|\n",
            "|6713-OKOMC|Female|            0|     No|        No|    10|          No|No phone service|            DSL|                Yes|                 No|                 No|                 No|                 No|                 No|Month-to-month|              No|        Mailed check|         29.75|       301.9|   No|               0|\n",
            "|7892-POOKP|Female|            0|    Yes|        No|    28|         Yes|             Yes|    Fiber optic|                 No|                 No|                Yes|                Yes|                Yes|                Yes|Month-to-month|             Yes|    Electronic check|         104.8|     3046.05|  Yes|               0|\n",
            "|6388-TABGU|  Male|            0|     No|       Yes|    62|         Yes|              No|            DSL|                Yes|                Yes|                 No|                 No|                 No|                 No|      One year|              No|Bank transfer (au...|         56.15|     3487.95|   No|              12|\n",
            "|9763-GRSKD|  Male|            0|    Yes|       Yes|    13|         Yes|              No|            DSL|                Yes|                 No|                 No|                 No|                 No|                 No|Month-to-month|             Yes|        Mailed check|         49.95|      587.45|   No|               0|\n",
            "|7469-LKBCI|  Male|            0|     No|        No|    16|         Yes|              No|             No|No internet service|No internet service|No internet service|No internet service|No internet service|No internet service|      Two year|              No|Credit card (auto...|         18.95|       326.8|   No|              24|\n",
            "|8091-TTVAX|  Male|            0|    Yes|        No|    58|         Yes|             Yes|    Fiber optic|                 No|                 No|                Yes|                 No|                Yes|                Yes|      One year|              No|Credit card (auto...|        100.35|      5681.1|   No|              12|\n",
            "|0280-XJGEX|  Male|            0|     No|        No|    49|         Yes|             Yes|    Fiber optic|                 No|                Yes|                Yes|                 No|                Yes|                Yes|Month-to-month|             Yes|Bank transfer (au...|         103.7|      5036.3|  Yes|               0|\n",
            "|5129-JLPIS|  Male|            0|     No|        No|    25|         Yes|              No|    Fiber optic|                Yes|                 No|                Yes|                Yes|                Yes|                Yes|Month-to-month|             Yes|    Electronic check|         105.5|     2686.05|   No|               0|\n",
            "|3655-SNQYZ|Female|            0|    Yes|       Yes|    69|         Yes|             Yes|    Fiber optic|                Yes|                Yes|                Yes|                Yes|                Yes|                Yes|      Two year|              No|Credit card (auto...|        113.25|     7895.15|   No|              24|\n",
            "|8191-XWSZG|Female|            0|     No|        No|    52|         Yes|              No|             No|No internet service|No internet service|No internet service|No internet service|No internet service|No internet service|      One year|              No|        Mailed check|         20.65|     1022.95|   No|              12|\n",
            "|9959-WOFKT|  Male|            0|     No|       Yes|    71|         Yes|             Yes|    Fiber optic|                Yes|                 No|                Yes|                 No|                Yes|                Yes|      Two year|              No|Bank transfer (au...|         106.7|     7382.25|   No|              24|\n",
            "|4190-MFLUW|Female|            0|    Yes|       Yes|    10|         Yes|              No|            DSL|                 No|                 No|                Yes|                Yes|                 No|                 No|Month-to-month|              No|Credit card (auto...|          55.2|      528.35|  Yes|               0|\n",
            "|4183-MYFRB|Female|            0|     No|        No|    21|         Yes|              No|    Fiber optic|                 No|                Yes|                Yes|                 No|                 No|                Yes|Month-to-month|             Yes|    Electronic check|         90.05|      1862.9|   No|               0|\n",
            "+----------+------+-------------+-------+----------+------+------------+----------------+---------------+-------------------+-------------------+-------------------+-------------------+-------------------+-------------------+--------------+----------------+--------------------+--------------+------------+-----+----------------+\n",
            "only showing top 20 rows\n",
            "\n"
          ]
        }
      ]
    },
    {
      "cell_type": "code",
      "source": [
        "data_edit = data_edit.drop(\"CustomerID\").drop(\"Contract\")\n",
        "data_edit.show()"
      ],
      "metadata": {
        "colab": {
          "base_uri": "https://localhost:8080/"
        },
        "id": "VTO7f-TtI2--",
        "outputId": "f4b82537-7ac1-4cc5-f979-016a2a4d3f9d"
      },
      "execution_count": 22,
      "outputs": [
        {
          "output_type": "stream",
          "name": "stdout",
          "text": [
            "+------+-------------+-------+----------+------+------------+----------------+---------------+-------------------+-------------------+-------------------+-------------------+-------------------+-------------------+----------------+--------------------+--------------+------------+-----+----------------+\n",
            "|gender|SeniorCitizen|Partner|Dependents|tenure|PhoneService|   MultipleLines|InternetService|     OnlineSecurity|       OnlineBackup|   DeviceProtection|        TechSupport|        StreamingTV|    StreamingMovies|PaperlessBilling|       PaymentMethod|MonthlyCharges|TotalCharges|Churn|Contract_lasting|\n",
            "+------+-------------+-------+----------+------+------------+----------------+---------------+-------------------+-------------------+-------------------+-------------------+-------------------+-------------------+----------------+--------------------+--------------+------------+-----+----------------+\n",
            "|Female|            0|    Yes|        No|     1|          No|No phone service|            DSL|                 No|                Yes|                 No|                 No|                 No|                 No|             Yes|    Electronic check|         29.85|       29.85|   No|               0|\n",
            "|  Male|            0|     No|        No|    34|         Yes|              No|            DSL|                Yes|                 No|                Yes|                 No|                 No|                 No|              No|        Mailed check|         56.95|      1889.5|   No|              12|\n",
            "|  Male|            0|     No|        No|     2|         Yes|              No|            DSL|                Yes|                Yes|                 No|                 No|                 No|                 No|             Yes|        Mailed check|         53.85|      108.15|  Yes|               0|\n",
            "|  Male|            0|     No|        No|    45|          No|No phone service|            DSL|                Yes|                 No|                Yes|                Yes|                 No|                 No|              No|Bank transfer (au...|          42.3|     1840.75|   No|              12|\n",
            "|Female|            0|     No|        No|     2|         Yes|              No|    Fiber optic|                 No|                 No|                 No|                 No|                 No|                 No|             Yes|    Electronic check|          70.7|      151.65|  Yes|               0|\n",
            "|Female|            0|     No|        No|     8|         Yes|             Yes|    Fiber optic|                 No|                 No|                Yes|                 No|                Yes|                Yes|             Yes|    Electronic check|         99.65|       820.5|  Yes|               0|\n",
            "|  Male|            0|     No|       Yes|    22|         Yes|             Yes|    Fiber optic|                 No|                Yes|                 No|                 No|                Yes|                 No|             Yes|Credit card (auto...|          89.1|      1949.4|   No|               0|\n",
            "|Female|            0|     No|        No|    10|          No|No phone service|            DSL|                Yes|                 No|                 No|                 No|                 No|                 No|              No|        Mailed check|         29.75|       301.9|   No|               0|\n",
            "|Female|            0|    Yes|        No|    28|         Yes|             Yes|    Fiber optic|                 No|                 No|                Yes|                Yes|                Yes|                Yes|             Yes|    Electronic check|         104.8|     3046.05|  Yes|               0|\n",
            "|  Male|            0|     No|       Yes|    62|         Yes|              No|            DSL|                Yes|                Yes|                 No|                 No|                 No|                 No|              No|Bank transfer (au...|         56.15|     3487.95|   No|              12|\n",
            "|  Male|            0|    Yes|       Yes|    13|         Yes|              No|            DSL|                Yes|                 No|                 No|                 No|                 No|                 No|             Yes|        Mailed check|         49.95|      587.45|   No|               0|\n",
            "|  Male|            0|     No|        No|    16|         Yes|              No|             No|No internet service|No internet service|No internet service|No internet service|No internet service|No internet service|              No|Credit card (auto...|         18.95|       326.8|   No|              24|\n",
            "|  Male|            0|    Yes|        No|    58|         Yes|             Yes|    Fiber optic|                 No|                 No|                Yes|                 No|                Yes|                Yes|              No|Credit card (auto...|        100.35|      5681.1|   No|              12|\n",
            "|  Male|            0|     No|        No|    49|         Yes|             Yes|    Fiber optic|                 No|                Yes|                Yes|                 No|                Yes|                Yes|             Yes|Bank transfer (au...|         103.7|      5036.3|  Yes|               0|\n",
            "|  Male|            0|     No|        No|    25|         Yes|              No|    Fiber optic|                Yes|                 No|                Yes|                Yes|                Yes|                Yes|             Yes|    Electronic check|         105.5|     2686.05|   No|               0|\n",
            "|Female|            0|    Yes|       Yes|    69|         Yes|             Yes|    Fiber optic|                Yes|                Yes|                Yes|                Yes|                Yes|                Yes|              No|Credit card (auto...|        113.25|     7895.15|   No|              24|\n",
            "|Female|            0|     No|        No|    52|         Yes|              No|             No|No internet service|No internet service|No internet service|No internet service|No internet service|No internet service|              No|        Mailed check|         20.65|     1022.95|   No|              12|\n",
            "|  Male|            0|     No|       Yes|    71|         Yes|             Yes|    Fiber optic|                Yes|                 No|                Yes|                 No|                Yes|                Yes|              No|Bank transfer (au...|         106.7|     7382.25|   No|              24|\n",
            "|Female|            0|    Yes|       Yes|    10|         Yes|              No|            DSL|                 No|                 No|                Yes|                Yes|                 No|                 No|              No|Credit card (auto...|          55.2|      528.35|  Yes|               0|\n",
            "|Female|            0|     No|        No|    21|         Yes|              No|    Fiber optic|                 No|                Yes|                Yes|                 No|                 No|                Yes|             Yes|    Electronic check|         90.05|      1862.9|   No|               0|\n",
            "+------+-------------+-------+----------+------+------------+----------------+---------------+-------------------+-------------------+-------------------+-------------------+-------------------+-------------------+----------------+--------------------+--------------+------------+-----+----------------+\n",
            "only showing top 20 rows\n",
            "\n"
          ]
        }
      ]
    },
    {
      "cell_type": "code",
      "source": [
        "data_edit = data_edit.withColumn(\"isLoyal\",\n",
        "                     when(data_edit[\"Contract_lasting\"] < data_edit[\"tenure\"], 1)\n",
        "                     .otherwise(0))\n",
        "\n",
        "data_edit.show()"
      ],
      "metadata": {
        "colab": {
          "base_uri": "https://localhost:8080/"
        },
        "id": "mCOwcaj5JdEm",
        "outputId": "07def3c7-1caf-4430-89c4-38b665ab10b4"
      },
      "execution_count": 23,
      "outputs": [
        {
          "output_type": "stream",
          "name": "stdout",
          "text": [
            "+------+-------------+-------+----------+------+------------+----------------+---------------+-------------------+-------------------+-------------------+-------------------+-------------------+-------------------+----------------+--------------------+--------------+------------+-----+----------------+-------+\n",
            "|gender|SeniorCitizen|Partner|Dependents|tenure|PhoneService|   MultipleLines|InternetService|     OnlineSecurity|       OnlineBackup|   DeviceProtection|        TechSupport|        StreamingTV|    StreamingMovies|PaperlessBilling|       PaymentMethod|MonthlyCharges|TotalCharges|Churn|Contract_lasting|isLoyal|\n",
            "+------+-------------+-------+----------+------+------------+----------------+---------------+-------------------+-------------------+-------------------+-------------------+-------------------+-------------------+----------------+--------------------+--------------+------------+-----+----------------+-------+\n",
            "|Female|            0|    Yes|        No|     1|          No|No phone service|            DSL|                 No|                Yes|                 No|                 No|                 No|                 No|             Yes|    Electronic check|         29.85|       29.85|   No|               0|      1|\n",
            "|  Male|            0|     No|        No|    34|         Yes|              No|            DSL|                Yes|                 No|                Yes|                 No|                 No|                 No|              No|        Mailed check|         56.95|      1889.5|   No|              12|      1|\n",
            "|  Male|            0|     No|        No|     2|         Yes|              No|            DSL|                Yes|                Yes|                 No|                 No|                 No|                 No|             Yes|        Mailed check|         53.85|      108.15|  Yes|               0|      1|\n",
            "|  Male|            0|     No|        No|    45|          No|No phone service|            DSL|                Yes|                 No|                Yes|                Yes|                 No|                 No|              No|Bank transfer (au...|          42.3|     1840.75|   No|              12|      1|\n",
            "|Female|            0|     No|        No|     2|         Yes|              No|    Fiber optic|                 No|                 No|                 No|                 No|                 No|                 No|             Yes|    Electronic check|          70.7|      151.65|  Yes|               0|      1|\n",
            "|Female|            0|     No|        No|     8|         Yes|             Yes|    Fiber optic|                 No|                 No|                Yes|                 No|                Yes|                Yes|             Yes|    Electronic check|         99.65|       820.5|  Yes|               0|      1|\n",
            "|  Male|            0|     No|       Yes|    22|         Yes|             Yes|    Fiber optic|                 No|                Yes|                 No|                 No|                Yes|                 No|             Yes|Credit card (auto...|          89.1|      1949.4|   No|               0|      1|\n",
            "|Female|            0|     No|        No|    10|          No|No phone service|            DSL|                Yes|                 No|                 No|                 No|                 No|                 No|              No|        Mailed check|         29.75|       301.9|   No|               0|      1|\n",
            "|Female|            0|    Yes|        No|    28|         Yes|             Yes|    Fiber optic|                 No|                 No|                Yes|                Yes|                Yes|                Yes|             Yes|    Electronic check|         104.8|     3046.05|  Yes|               0|      1|\n",
            "|  Male|            0|     No|       Yes|    62|         Yes|              No|            DSL|                Yes|                Yes|                 No|                 No|                 No|                 No|              No|Bank transfer (au...|         56.15|     3487.95|   No|              12|      1|\n",
            "|  Male|            0|    Yes|       Yes|    13|         Yes|              No|            DSL|                Yes|                 No|                 No|                 No|                 No|                 No|             Yes|        Mailed check|         49.95|      587.45|   No|               0|      1|\n",
            "|  Male|            0|     No|        No|    16|         Yes|              No|             No|No internet service|No internet service|No internet service|No internet service|No internet service|No internet service|              No|Credit card (auto...|         18.95|       326.8|   No|              24|      0|\n",
            "|  Male|            0|    Yes|        No|    58|         Yes|             Yes|    Fiber optic|                 No|                 No|                Yes|                 No|                Yes|                Yes|              No|Credit card (auto...|        100.35|      5681.1|   No|              12|      1|\n",
            "|  Male|            0|     No|        No|    49|         Yes|             Yes|    Fiber optic|                 No|                Yes|                Yes|                 No|                Yes|                Yes|             Yes|Bank transfer (au...|         103.7|      5036.3|  Yes|               0|      1|\n",
            "|  Male|            0|     No|        No|    25|         Yes|              No|    Fiber optic|                Yes|                 No|                Yes|                Yes|                Yes|                Yes|             Yes|    Electronic check|         105.5|     2686.05|   No|               0|      1|\n",
            "|Female|            0|    Yes|       Yes|    69|         Yes|             Yes|    Fiber optic|                Yes|                Yes|                Yes|                Yes|                Yes|                Yes|              No|Credit card (auto...|        113.25|     7895.15|   No|              24|      1|\n",
            "|Female|            0|     No|        No|    52|         Yes|              No|             No|No internet service|No internet service|No internet service|No internet service|No internet service|No internet service|              No|        Mailed check|         20.65|     1022.95|   No|              12|      1|\n",
            "|  Male|            0|     No|       Yes|    71|         Yes|             Yes|    Fiber optic|                Yes|                 No|                Yes|                 No|                Yes|                Yes|              No|Bank transfer (au...|         106.7|     7382.25|   No|              24|      1|\n",
            "|Female|            0|    Yes|       Yes|    10|         Yes|              No|            DSL|                 No|                 No|                Yes|                Yes|                 No|                 No|              No|Credit card (auto...|          55.2|      528.35|  Yes|               0|      1|\n",
            "|Female|            0|     No|        No|    21|         Yes|              No|    Fiber optic|                 No|                Yes|                Yes|                 No|                 No|                Yes|             Yes|    Electronic check|         90.05|      1862.9|   No|               0|      1|\n",
            "+------+-------------+-------+----------+------+------------+----------------+---------------+-------------------+-------------------+-------------------+-------------------+-------------------+-------------------+----------------+--------------------+--------------+------------+-----+----------------+-------+\n",
            "only showing top 20 rows\n",
            "\n"
          ]
        }
      ]
    },
    {
      "cell_type": "markdown",
      "source": [
        "#7. Векторизация фичей\n",
        "Подготовьте данные к обучению:\n",
        "\n",
        "\n",
        "\n"
      ],
      "metadata": {
        "id": "mX-4GEdHTZWd"
      }
    },
    {
      "cell_type": "markdown",
      "source": [
        "1. Преобразуйте текстовые колонки в числа, используя StringIndexer.\n",
        "Удалите столбцы со старыми (непреобразованными) признаками. Выведите на экран структуру получившегося датафрейма. Не забывайте о столбце Churn. Хоть он и выступает в задаче как таргет, он имеет текстовый тип, поэтому тоже должен быть закодирован числовыми значениями.\n",
        "\n",
        "Чтобы использовать StringIndexer для всех категориальных признаков сразу, а не для каждого отдельно, можно применить сущность pipeline.\n",
        "\n",
        "**Пример кода:**\n",
        "\n",
        "##### #Задаём список текстовых колонок:\n",
        "text_columns = [\"text_col_1\", \"text_col_2\", \"text_col_3\"]\n",
        "\n",
        "##### #Задаём список StringIndexer'ов — сущностей, каждая из которых будет кодировать одну текстовую колонку числами. Имена преобразованных колонок будут заканчиваться на _index:\n",
        "indexers = [StringIndexer(inputCol=column, outputCol=column+\"_index\",).fit(<ваш датасет>) for column in text_columns]\n",
        "\n",
        "##### #Создаём Pipeline из StringIndexer'ов:\n",
        "pipeline = Pipeline(stages=indexers)\n",
        "\n",
        "##### #Скармливаем нашему pipeline датафрейм, удаляя старые колонки:\n",
        "new_dataframe = pipeline.fit(<ваш датасет>).transform(<ваш датасет>).drop(*text_columns)\n"
      ],
      "metadata": {
        "id": "x5cNxN2qq3SL"
      }
    },
    {
      "cell_type": "code",
      "source": [
        "from pyspark import mllib\n",
        "from pyspark.ml.feature import StringIndexer\n",
        "from pyspark.ml import Pipeline\n",
        "\n",
        "#список колонок с текстовым типом\n",
        "text_cols = [\"gender\", \"Partner\", \"Dependents\", \"PhoneService\", \"MultipleLines\", \"InternetService\", \\\n",
        "                \"OnlineSecurity\", \"OnlineBackup\", \"DeviceProtection\", \"TechSupport\", \"StreamingTV\", \\\n",
        "                \"StreamingMovies\", \"PaperlessBilling\", \"PaymentMethod\", \"Churn\"]\n",
        "\n",
        "#\n",
        "### Ваш код здесь ###\n",
        "indexers = [StringIndexer(inputCol=column, outputCol=column+\"_index\",).fit(data_edit) for column in text_cols]\n",
        "pipeline = Pipeline(stages=indexers)\n",
        "new_data = pipeline.fit(data_edit).transform(data_edit).drop(*text_cols)\n",
        "new_data.show()"
      ],
      "metadata": {
        "id": "0XQ3pjdAcBIL",
        "colab": {
          "base_uri": "https://localhost:8080/"
        },
        "outputId": "0e4dc9d5-fd76-4db5-ff0d-39f5b33f3a52"
      },
      "execution_count": 24,
      "outputs": [
        {
          "output_type": "stream",
          "name": "stdout",
          "text": [
            "+-------------+------+--------------+------------+----------------+-------+------------+-------------+----------------+------------------+-------------------+---------------------+--------------------+------------------+----------------------+-----------------+-----------------+---------------------+----------------------+-------------------+-----------+\n",
            "|SeniorCitizen|tenure|MonthlyCharges|TotalCharges|Contract_lasting|isLoyal|gender_index|Partner_index|Dependents_index|PhoneService_index|MultipleLines_index|InternetService_index|OnlineSecurity_index|OnlineBackup_index|DeviceProtection_index|TechSupport_index|StreamingTV_index|StreamingMovies_index|PaperlessBilling_index|PaymentMethod_index|Churn_index|\n",
            "+-------------+------+--------------+------------+----------------+-------+------------+-------------+----------------+------------------+-------------------+---------------------+--------------------+------------------+----------------------+-----------------+-----------------+---------------------+----------------------+-------------------+-----------+\n",
            "|            0|     1|         29.85|       29.85|               0|      1|         1.0|          1.0|             0.0|               1.0|                2.0|                  1.0|                 0.0|               1.0|                   0.0|              0.0|              0.0|                  0.0|                   0.0|                0.0|        0.0|\n",
            "|            0|    34|         56.95|      1889.5|              12|      1|         0.0|          0.0|             0.0|               0.0|                0.0|                  1.0|                 1.0|               0.0|                   1.0|              0.0|              0.0|                  0.0|                   1.0|                1.0|        0.0|\n",
            "|            0|     2|         53.85|      108.15|               0|      1|         0.0|          0.0|             0.0|               0.0|                0.0|                  1.0|                 1.0|               1.0|                   0.0|              0.0|              0.0|                  0.0|                   0.0|                1.0|        1.0|\n",
            "|            0|    45|          42.3|     1840.75|              12|      1|         0.0|          0.0|             0.0|               1.0|                2.0|                  1.0|                 1.0|               0.0|                   1.0|              1.0|              0.0|                  0.0|                   1.0|                2.0|        0.0|\n",
            "|            0|     2|          70.7|      151.65|               0|      1|         1.0|          0.0|             0.0|               0.0|                0.0|                  0.0|                 0.0|               0.0|                   0.0|              0.0|              0.0|                  0.0|                   0.0|                0.0|        1.0|\n",
            "|            0|     8|         99.65|       820.5|               0|      1|         1.0|          0.0|             0.0|               0.0|                1.0|                  0.0|                 0.0|               0.0|                   1.0|              0.0|              1.0|                  1.0|                   0.0|                0.0|        1.0|\n",
            "|            0|    22|          89.1|      1949.4|               0|      1|         0.0|          0.0|             1.0|               0.0|                1.0|                  0.0|                 0.0|               1.0|                   0.0|              0.0|              1.0|                  0.0|                   0.0|                3.0|        0.0|\n",
            "|            0|    10|         29.75|       301.9|               0|      1|         1.0|          0.0|             0.0|               1.0|                2.0|                  1.0|                 1.0|               0.0|                   0.0|              0.0|              0.0|                  0.0|                   1.0|                1.0|        0.0|\n",
            "|            0|    28|         104.8|     3046.05|               0|      1|         1.0|          1.0|             0.0|               0.0|                1.0|                  0.0|                 0.0|               0.0|                   1.0|              1.0|              1.0|                  1.0|                   0.0|                0.0|        1.0|\n",
            "|            0|    62|         56.15|     3487.95|              12|      1|         0.0|          0.0|             1.0|               0.0|                0.0|                  1.0|                 1.0|               1.0|                   0.0|              0.0|              0.0|                  0.0|                   1.0|                2.0|        0.0|\n",
            "|            0|    13|         49.95|      587.45|               0|      1|         0.0|          1.0|             1.0|               0.0|                0.0|                  1.0|                 1.0|               0.0|                   0.0|              0.0|              0.0|                  0.0|                   0.0|                1.0|        0.0|\n",
            "|            0|    16|         18.95|       326.8|              24|      0|         0.0|          0.0|             0.0|               0.0|                0.0|                  2.0|                 2.0|               2.0|                   2.0|              2.0|              2.0|                  2.0|                   1.0|                3.0|        0.0|\n",
            "|            0|    58|        100.35|      5681.1|              12|      1|         0.0|          1.0|             0.0|               0.0|                1.0|                  0.0|                 0.0|               0.0|                   1.0|              0.0|              1.0|                  1.0|                   1.0|                3.0|        0.0|\n",
            "|            0|    49|         103.7|      5036.3|               0|      1|         0.0|          0.0|             0.0|               0.0|                1.0|                  0.0|                 0.0|               1.0|                   1.0|              0.0|              1.0|                  1.0|                   0.0|                2.0|        1.0|\n",
            "|            0|    25|         105.5|     2686.05|               0|      1|         0.0|          0.0|             0.0|               0.0|                0.0|                  0.0|                 1.0|               0.0|                   1.0|              1.0|              1.0|                  1.0|                   0.0|                0.0|        0.0|\n",
            "|            0|    69|        113.25|     7895.15|              24|      1|         1.0|          1.0|             1.0|               0.0|                1.0|                  0.0|                 1.0|               1.0|                   1.0|              1.0|              1.0|                  1.0|                   1.0|                3.0|        0.0|\n",
            "|            0|    52|         20.65|     1022.95|              12|      1|         1.0|          0.0|             0.0|               0.0|                0.0|                  2.0|                 2.0|               2.0|                   2.0|              2.0|              2.0|                  2.0|                   1.0|                1.0|        0.0|\n",
            "|            0|    71|         106.7|     7382.25|              24|      1|         0.0|          0.0|             1.0|               0.0|                1.0|                  0.0|                 1.0|               0.0|                   1.0|              0.0|              1.0|                  1.0|                   1.0|                2.0|        0.0|\n",
            "|            0|    10|          55.2|      528.35|               0|      1|         1.0|          1.0|             1.0|               0.0|                0.0|                  1.0|                 0.0|               0.0|                   1.0|              1.0|              0.0|                  0.0|                   1.0|                3.0|        1.0|\n",
            "|            0|    21|         90.05|      1862.9|               0|      1|         1.0|          0.0|             0.0|               0.0|                0.0|                  0.0|                 0.0|               1.0|                   1.0|              0.0|              0.0|                  1.0|                   0.0|                0.0|        0.0|\n",
            "+-------------+------+--------------+------------+----------------+-------+------------+-------------+----------------+------------------+-------------------+---------------------+--------------------+------------------+----------------------+-----------------+-----------------+---------------------+----------------------+-------------------+-----------+\n",
            "only showing top 20 rows\n",
            "\n"
          ]
        }
      ]
    },
    {
      "cell_type": "markdown",
      "source": [
        "2. Векторизуйте категориальные признаки, используя OneHotEncoder.\n",
        "Удалите столбцы со старыми (непреобразованными) признаками.\n",
        "Выведите на экран структуру получившегося после преобразований датафрейма.\n"
      ],
      "metadata": {
        "id": "EEqoj7IcmB5H"
      }
    },
    {
      "cell_type": "code",
      "source": [
        "from pyspark.ml.feature import OneHotEncoder\n",
        "\n",
        "#список категориальных колонок\n",
        "features_inp  = [\"MultipleLines\", \"InternetService\", \\\n",
        "                \"OnlineSecurity\", \"OnlineBackup\", \"DeviceProtection\", \"TechSupport\", \"StreamingTV\", \\\n",
        "                \"StreamingMovies\", \"PaymentMethod\"]\n",
        "features_inp = [col+\"_index\" for col in features_inp]\n",
        "\n",
        "ohe = OneHotEncoder(inputCols=features_inp, outputCols=[x + \"_ohe\" for x in features_inp])\n",
        "data_ohe = ohe.fit(new_data).transform(new_data).drop(*features_inp)\n",
        "data_ohe.show()\n",
        "\n",
        "### Ваш код здесь ###\n",
        "\n"
      ],
      "metadata": {
        "id": "Gihv_Q00TkOD",
        "colab": {
          "base_uri": "https://localhost:8080/"
        },
        "outputId": "895cec9b-77aa-483e-8521-b41f3ce6ca41"
      },
      "execution_count": 25,
      "outputs": [
        {
          "output_type": "stream",
          "name": "stdout",
          "text": [
            "+-------------+------+--------------+------------+----------------+-------+------------+-------------+----------------+------------------+----------------------+-----------+-----------------------+-------------------------+------------------------+----------------------+--------------------------+---------------------+---------------------+-------------------------+-----------------------+\n",
            "|SeniorCitizen|tenure|MonthlyCharges|TotalCharges|Contract_lasting|isLoyal|gender_index|Partner_index|Dependents_index|PhoneService_index|PaperlessBilling_index|Churn_index|MultipleLines_index_ohe|InternetService_index_ohe|OnlineSecurity_index_ohe|OnlineBackup_index_ohe|DeviceProtection_index_ohe|TechSupport_index_ohe|StreamingTV_index_ohe|StreamingMovies_index_ohe|PaymentMethod_index_ohe|\n",
            "+-------------+------+--------------+------------+----------------+-------+------------+-------------+----------------+------------------+----------------------+-----------+-----------------------+-------------------------+------------------------+----------------------+--------------------------+---------------------+---------------------+-------------------------+-----------------------+\n",
            "|            0|     1|         29.85|       29.85|               0|      1|         1.0|          1.0|             0.0|               1.0|                   0.0|        0.0|              (2,[],[])|            (2,[1],[1.0])|           (2,[0],[1.0])|         (2,[1],[1.0])|             (2,[0],[1.0])|        (2,[0],[1.0])|        (2,[0],[1.0])|            (2,[0],[1.0])|          (3,[0],[1.0])|\n",
            "|            0|    34|         56.95|      1889.5|              12|      1|         0.0|          0.0|             0.0|               0.0|                   1.0|        0.0|          (2,[0],[1.0])|            (2,[1],[1.0])|           (2,[1],[1.0])|         (2,[0],[1.0])|             (2,[1],[1.0])|        (2,[0],[1.0])|        (2,[0],[1.0])|            (2,[0],[1.0])|          (3,[1],[1.0])|\n",
            "|            0|     2|         53.85|      108.15|               0|      1|         0.0|          0.0|             0.0|               0.0|                   0.0|        1.0|          (2,[0],[1.0])|            (2,[1],[1.0])|           (2,[1],[1.0])|         (2,[1],[1.0])|             (2,[0],[1.0])|        (2,[0],[1.0])|        (2,[0],[1.0])|            (2,[0],[1.0])|          (3,[1],[1.0])|\n",
            "|            0|    45|          42.3|     1840.75|              12|      1|         0.0|          0.0|             0.0|               1.0|                   1.0|        0.0|              (2,[],[])|            (2,[1],[1.0])|           (2,[1],[1.0])|         (2,[0],[1.0])|             (2,[1],[1.0])|        (2,[1],[1.0])|        (2,[0],[1.0])|            (2,[0],[1.0])|          (3,[2],[1.0])|\n",
            "|            0|     2|          70.7|      151.65|               0|      1|         1.0|          0.0|             0.0|               0.0|                   0.0|        1.0|          (2,[0],[1.0])|            (2,[0],[1.0])|           (2,[0],[1.0])|         (2,[0],[1.0])|             (2,[0],[1.0])|        (2,[0],[1.0])|        (2,[0],[1.0])|            (2,[0],[1.0])|          (3,[0],[1.0])|\n",
            "|            0|     8|         99.65|       820.5|               0|      1|         1.0|          0.0|             0.0|               0.0|                   0.0|        1.0|          (2,[1],[1.0])|            (2,[0],[1.0])|           (2,[0],[1.0])|         (2,[0],[1.0])|             (2,[1],[1.0])|        (2,[0],[1.0])|        (2,[1],[1.0])|            (2,[1],[1.0])|          (3,[0],[1.0])|\n",
            "|            0|    22|          89.1|      1949.4|               0|      1|         0.0|          0.0|             1.0|               0.0|                   0.0|        0.0|          (2,[1],[1.0])|            (2,[0],[1.0])|           (2,[0],[1.0])|         (2,[1],[1.0])|             (2,[0],[1.0])|        (2,[0],[1.0])|        (2,[1],[1.0])|            (2,[0],[1.0])|              (3,[],[])|\n",
            "|            0|    10|         29.75|       301.9|               0|      1|         1.0|          0.0|             0.0|               1.0|                   1.0|        0.0|              (2,[],[])|            (2,[1],[1.0])|           (2,[1],[1.0])|         (2,[0],[1.0])|             (2,[0],[1.0])|        (2,[0],[1.0])|        (2,[0],[1.0])|            (2,[0],[1.0])|          (3,[1],[1.0])|\n",
            "|            0|    28|         104.8|     3046.05|               0|      1|         1.0|          1.0|             0.0|               0.0|                   0.0|        1.0|          (2,[1],[1.0])|            (2,[0],[1.0])|           (2,[0],[1.0])|         (2,[0],[1.0])|             (2,[1],[1.0])|        (2,[1],[1.0])|        (2,[1],[1.0])|            (2,[1],[1.0])|          (3,[0],[1.0])|\n",
            "|            0|    62|         56.15|     3487.95|              12|      1|         0.0|          0.0|             1.0|               0.0|                   1.0|        0.0|          (2,[0],[1.0])|            (2,[1],[1.0])|           (2,[1],[1.0])|         (2,[1],[1.0])|             (2,[0],[1.0])|        (2,[0],[1.0])|        (2,[0],[1.0])|            (2,[0],[1.0])|          (3,[2],[1.0])|\n",
            "|            0|    13|         49.95|      587.45|               0|      1|         0.0|          1.0|             1.0|               0.0|                   0.0|        0.0|          (2,[0],[1.0])|            (2,[1],[1.0])|           (2,[1],[1.0])|         (2,[0],[1.0])|             (2,[0],[1.0])|        (2,[0],[1.0])|        (2,[0],[1.0])|            (2,[0],[1.0])|          (3,[1],[1.0])|\n",
            "|            0|    16|         18.95|       326.8|              24|      0|         0.0|          0.0|             0.0|               0.0|                   1.0|        0.0|          (2,[0],[1.0])|                (2,[],[])|               (2,[],[])|             (2,[],[])|                 (2,[],[])|            (2,[],[])|            (2,[],[])|                (2,[],[])|              (3,[],[])|\n",
            "|            0|    58|        100.35|      5681.1|              12|      1|         0.0|          1.0|             0.0|               0.0|                   1.0|        0.0|          (2,[1],[1.0])|            (2,[0],[1.0])|           (2,[0],[1.0])|         (2,[0],[1.0])|             (2,[1],[1.0])|        (2,[0],[1.0])|        (2,[1],[1.0])|            (2,[1],[1.0])|              (3,[],[])|\n",
            "|            0|    49|         103.7|      5036.3|               0|      1|         0.0|          0.0|             0.0|               0.0|                   0.0|        1.0|          (2,[1],[1.0])|            (2,[0],[1.0])|           (2,[0],[1.0])|         (2,[1],[1.0])|             (2,[1],[1.0])|        (2,[0],[1.0])|        (2,[1],[1.0])|            (2,[1],[1.0])|          (3,[2],[1.0])|\n",
            "|            0|    25|         105.5|     2686.05|               0|      1|         0.0|          0.0|             0.0|               0.0|                   0.0|        0.0|          (2,[0],[1.0])|            (2,[0],[1.0])|           (2,[1],[1.0])|         (2,[0],[1.0])|             (2,[1],[1.0])|        (2,[1],[1.0])|        (2,[1],[1.0])|            (2,[1],[1.0])|          (3,[0],[1.0])|\n",
            "|            0|    69|        113.25|     7895.15|              24|      1|         1.0|          1.0|             1.0|               0.0|                   1.0|        0.0|          (2,[1],[1.0])|            (2,[0],[1.0])|           (2,[1],[1.0])|         (2,[1],[1.0])|             (2,[1],[1.0])|        (2,[1],[1.0])|        (2,[1],[1.0])|            (2,[1],[1.0])|              (3,[],[])|\n",
            "|            0|    52|         20.65|     1022.95|              12|      1|         1.0|          0.0|             0.0|               0.0|                   1.0|        0.0|          (2,[0],[1.0])|                (2,[],[])|               (2,[],[])|             (2,[],[])|                 (2,[],[])|            (2,[],[])|            (2,[],[])|                (2,[],[])|          (3,[1],[1.0])|\n",
            "|            0|    71|         106.7|     7382.25|              24|      1|         0.0|          0.0|             1.0|               0.0|                   1.0|        0.0|          (2,[1],[1.0])|            (2,[0],[1.0])|           (2,[1],[1.0])|         (2,[0],[1.0])|             (2,[1],[1.0])|        (2,[0],[1.0])|        (2,[1],[1.0])|            (2,[1],[1.0])|          (3,[2],[1.0])|\n",
            "|            0|    10|          55.2|      528.35|               0|      1|         1.0|          1.0|             1.0|               0.0|                   1.0|        1.0|          (2,[0],[1.0])|            (2,[1],[1.0])|           (2,[0],[1.0])|         (2,[0],[1.0])|             (2,[1],[1.0])|        (2,[1],[1.0])|        (2,[0],[1.0])|            (2,[0],[1.0])|              (3,[],[])|\n",
            "|            0|    21|         90.05|      1862.9|               0|      1|         1.0|          0.0|             0.0|               0.0|                   0.0|        0.0|          (2,[0],[1.0])|            (2,[0],[1.0])|           (2,[0],[1.0])|         (2,[1],[1.0])|             (2,[1],[1.0])|        (2,[0],[1.0])|        (2,[0],[1.0])|            (2,[1],[1.0])|          (3,[0],[1.0])|\n",
            "+-------------+------+--------------+------------+----------------+-------+------------+-------------+----------------+------------------+----------------------+-----------+-----------------------+-------------------------+------------------------+----------------------+--------------------------+---------------------+---------------------+-------------------------+-----------------------+\n",
            "only showing top 20 rows\n",
            "\n"
          ]
        }
      ]
    },
    {
      "cell_type": "markdown",
      "source": [
        "3. Объедините колонки фичей в один вектор, используя VectorAssembler.\n",
        "Удалите столбцы со старыми (непреобразованными) признаками.\n",
        "Выведите на экран первые несколько строк и структуру получившегося датафрейма."
      ],
      "metadata": {
        "id": "WscurK1IoJ8w"
      }
    },
    {
      "cell_type": "code",
      "source": [
        "from pyspark.ml.feature import VectorAssembler\n",
        "\n",
        "\n",
        "### Ваш код здесь ###\n",
        "assembler = VectorAssembler(inputCols=data_ohe.columns,outputCol=\"features\")\n",
        "\n",
        "out_data = assembler.transform(data_ohe)\n",
        "out_data.show()"
      ],
      "metadata": {
        "id": "wOm-Te9bYMia",
        "colab": {
          "base_uri": "https://localhost:8080/"
        },
        "outputId": "d42644e1-f656-4bdc-fc21-c875922e7032"
      },
      "execution_count": 26,
      "outputs": [
        {
          "output_type": "stream",
          "name": "stdout",
          "text": [
            "+-------------+------+--------------+------------+----------------+-------+------------+-------------+----------------+------------------+----------------------+-----------+-----------------------+-------------------------+------------------------+----------------------+--------------------------+---------------------+---------------------+-------------------------+-----------------------+--------------------+\n",
            "|SeniorCitizen|tenure|MonthlyCharges|TotalCharges|Contract_lasting|isLoyal|gender_index|Partner_index|Dependents_index|PhoneService_index|PaperlessBilling_index|Churn_index|MultipleLines_index_ohe|InternetService_index_ohe|OnlineSecurity_index_ohe|OnlineBackup_index_ohe|DeviceProtection_index_ohe|TechSupport_index_ohe|StreamingTV_index_ohe|StreamingMovies_index_ohe|PaymentMethod_index_ohe|            features|\n",
            "+-------------+------+--------------+------------+----------------+-------+------------+-------------+----------------+------------------+----------------------+-----------+-----------------------+-------------------------+------------------------+----------------------+--------------------------+---------------------+---------------------+-------------------------+-----------------------+--------------------+\n",
            "|            0|     1|         29.85|       29.85|               0|      1|         1.0|          1.0|             0.0|               1.0|                   0.0|        0.0|              (2,[],[])|            (2,[1],[1.0])|           (2,[0],[1.0])|         (2,[1],[1.0])|             (2,[0],[1.0])|        (2,[0],[1.0])|        (2,[0],[1.0])|            (2,[0],[1.0])|          (3,[0],[1.0])|(31,[1,2,3,5,6,7,...|\n",
            "|            0|    34|         56.95|      1889.5|              12|      1|         0.0|          0.0|             0.0|               0.0|                   1.0|        0.0|          (2,[0],[1.0])|            (2,[1],[1.0])|           (2,[1],[1.0])|         (2,[0],[1.0])|             (2,[1],[1.0])|        (2,[0],[1.0])|        (2,[0],[1.0])|            (2,[0],[1.0])|          (3,[1],[1.0])|(31,[1,2,3,4,5,10...|\n",
            "|            0|     2|         53.85|      108.15|               0|      1|         0.0|          0.0|             0.0|               0.0|                   0.0|        1.0|          (2,[0],[1.0])|            (2,[1],[1.0])|           (2,[1],[1.0])|         (2,[1],[1.0])|             (2,[0],[1.0])|        (2,[0],[1.0])|        (2,[0],[1.0])|            (2,[0],[1.0])|          (3,[1],[1.0])|(31,[1,2,3,5,11,1...|\n",
            "|            0|    45|          42.3|     1840.75|              12|      1|         0.0|          0.0|             0.0|               1.0|                   1.0|        0.0|              (2,[],[])|            (2,[1],[1.0])|           (2,[1],[1.0])|         (2,[0],[1.0])|             (2,[1],[1.0])|        (2,[1],[1.0])|        (2,[0],[1.0])|            (2,[0],[1.0])|          (3,[2],[1.0])|(31,[1,2,3,4,5,9,...|\n",
            "|            0|     2|          70.7|      151.65|               0|      1|         1.0|          0.0|             0.0|               0.0|                   0.0|        1.0|          (2,[0],[1.0])|            (2,[0],[1.0])|           (2,[0],[1.0])|         (2,[0],[1.0])|             (2,[0],[1.0])|        (2,[0],[1.0])|        (2,[0],[1.0])|            (2,[0],[1.0])|          (3,[0],[1.0])|(31,[1,2,3,5,6,11...|\n",
            "|            0|     8|         99.65|       820.5|               0|      1|         1.0|          0.0|             0.0|               0.0|                   0.0|        1.0|          (2,[1],[1.0])|            (2,[0],[1.0])|           (2,[0],[1.0])|         (2,[0],[1.0])|             (2,[1],[1.0])|        (2,[0],[1.0])|        (2,[1],[1.0])|            (2,[1],[1.0])|          (3,[0],[1.0])|(31,[1,2,3,5,6,11...|\n",
            "|            0|    22|          89.1|      1949.4|               0|      1|         0.0|          0.0|             1.0|               0.0|                   0.0|        0.0|          (2,[1],[1.0])|            (2,[0],[1.0])|           (2,[0],[1.0])|         (2,[1],[1.0])|             (2,[0],[1.0])|        (2,[0],[1.0])|        (2,[1],[1.0])|            (2,[0],[1.0])|              (3,[],[])|(31,[1,2,3,5,8,13...|\n",
            "|            0|    10|         29.75|       301.9|               0|      1|         1.0|          0.0|             0.0|               1.0|                   1.0|        0.0|              (2,[],[])|            (2,[1],[1.0])|           (2,[1],[1.0])|         (2,[0],[1.0])|             (2,[0],[1.0])|        (2,[0],[1.0])|        (2,[0],[1.0])|            (2,[0],[1.0])|          (3,[1],[1.0])|(31,[1,2,3,5,6,9,...|\n",
            "|            0|    28|         104.8|     3046.05|               0|      1|         1.0|          1.0|             0.0|               0.0|                   0.0|        1.0|          (2,[1],[1.0])|            (2,[0],[1.0])|           (2,[0],[1.0])|         (2,[0],[1.0])|             (2,[1],[1.0])|        (2,[1],[1.0])|        (2,[1],[1.0])|            (2,[1],[1.0])|          (3,[0],[1.0])|(31,[1,2,3,5,6,7,...|\n",
            "|            0|    62|         56.15|     3487.95|              12|      1|         0.0|          0.0|             1.0|               0.0|                   1.0|        0.0|          (2,[0],[1.0])|            (2,[1],[1.0])|           (2,[1],[1.0])|         (2,[1],[1.0])|             (2,[0],[1.0])|        (2,[0],[1.0])|        (2,[0],[1.0])|            (2,[0],[1.0])|          (3,[2],[1.0])|(31,[1,2,3,4,5,8,...|\n",
            "|            0|    13|         49.95|      587.45|               0|      1|         0.0|          1.0|             1.0|               0.0|                   0.0|        0.0|          (2,[0],[1.0])|            (2,[1],[1.0])|           (2,[1],[1.0])|         (2,[0],[1.0])|             (2,[0],[1.0])|        (2,[0],[1.0])|        (2,[0],[1.0])|            (2,[0],[1.0])|          (3,[1],[1.0])|(31,[1,2,3,5,7,8,...|\n",
            "|            0|    16|         18.95|       326.8|              24|      0|         0.0|          0.0|             0.0|               0.0|                   1.0|        0.0|          (2,[0],[1.0])|                (2,[],[])|               (2,[],[])|             (2,[],[])|                 (2,[],[])|            (2,[],[])|            (2,[],[])|                (2,[],[])|              (3,[],[])|(31,[1,2,3,4,10,1...|\n",
            "|            0|    58|        100.35|      5681.1|              12|      1|         0.0|          1.0|             0.0|               0.0|                   1.0|        0.0|          (2,[1],[1.0])|            (2,[0],[1.0])|           (2,[0],[1.0])|         (2,[0],[1.0])|             (2,[1],[1.0])|        (2,[0],[1.0])|        (2,[1],[1.0])|            (2,[1],[1.0])|              (3,[],[])|(31,[1,2,3,4,5,7,...|\n",
            "|            0|    49|         103.7|      5036.3|               0|      1|         0.0|          0.0|             0.0|               0.0|                   0.0|        1.0|          (2,[1],[1.0])|            (2,[0],[1.0])|           (2,[0],[1.0])|         (2,[1],[1.0])|             (2,[1],[1.0])|        (2,[0],[1.0])|        (2,[1],[1.0])|            (2,[1],[1.0])|          (3,[2],[1.0])|(31,[1,2,3,5,11,1...|\n",
            "|            0|    25|         105.5|     2686.05|               0|      1|         0.0|          0.0|             0.0|               0.0|                   0.0|        0.0|          (2,[0],[1.0])|            (2,[0],[1.0])|           (2,[1],[1.0])|         (2,[0],[1.0])|             (2,[1],[1.0])|        (2,[1],[1.0])|        (2,[1],[1.0])|            (2,[1],[1.0])|          (3,[0],[1.0])|(31,[1,2,3,5,12,1...|\n",
            "|            0|    69|        113.25|     7895.15|              24|      1|         1.0|          1.0|             1.0|               0.0|                   1.0|        0.0|          (2,[1],[1.0])|            (2,[0],[1.0])|           (2,[1],[1.0])|         (2,[1],[1.0])|             (2,[1],[1.0])|        (2,[1],[1.0])|        (2,[1],[1.0])|            (2,[1],[1.0])|              (3,[],[])|(31,[1,2,3,4,5,6,...|\n",
            "|            0|    52|         20.65|     1022.95|              12|      1|         1.0|          0.0|             0.0|               0.0|                   1.0|        0.0|          (2,[0],[1.0])|                (2,[],[])|               (2,[],[])|             (2,[],[])|                 (2,[],[])|            (2,[],[])|            (2,[],[])|                (2,[],[])|          (3,[1],[1.0])|(31,[1,2,3,4,5,6,...|\n",
            "|            0|    71|         106.7|     7382.25|              24|      1|         0.0|          0.0|             1.0|               0.0|                   1.0|        0.0|          (2,[1],[1.0])|            (2,[0],[1.0])|           (2,[1],[1.0])|         (2,[0],[1.0])|             (2,[1],[1.0])|        (2,[0],[1.0])|        (2,[1],[1.0])|            (2,[1],[1.0])|          (3,[2],[1.0])|(31,[1,2,3,4,5,8,...|\n",
            "|            0|    10|          55.2|      528.35|               0|      1|         1.0|          1.0|             1.0|               0.0|                   1.0|        1.0|          (2,[0],[1.0])|            (2,[1],[1.0])|           (2,[0],[1.0])|         (2,[0],[1.0])|             (2,[1],[1.0])|        (2,[1],[1.0])|        (2,[0],[1.0])|            (2,[0],[1.0])|              (3,[],[])|(31,[1,2,3,5,6,7,...|\n",
            "|            0|    21|         90.05|      1862.9|               0|      1|         1.0|          0.0|             0.0|               0.0|                   0.0|        0.0|          (2,[0],[1.0])|            (2,[0],[1.0])|           (2,[0],[1.0])|         (2,[1],[1.0])|             (2,[1],[1.0])|        (2,[0],[1.0])|        (2,[0],[1.0])|            (2,[1],[1.0])|          (3,[0],[1.0])|(31,[1,2,3,5,6,12...|\n",
            "+-------------+------+--------------+------------+----------------+-------+------------+-------------+----------------+------------------+----------------------+-----------+-----------------------+-------------------------+------------------------+----------------------+--------------------------+---------------------+---------------------+-------------------------+-----------------------+--------------------+\n",
            "only showing top 20 rows\n",
            "\n"
          ]
        }
      ]
    },
    {
      "cell_type": "markdown",
      "source": [
        "#8. Создание и обучение модели"
      ],
      "metadata": {
        "id": "uk_1ZJjDqm02"
      }
    },
    {
      "cell_type": "markdown",
      "source": [
        "1. Создайте модель — логистическую регрессию (используя LogisticRegression). В качестве параметров класса LogisticRegression укажите колонку фичей (параметр featuresCol), колонку-таргет (параметр labelCol) из датафрейма и имя колонки, в которую будут записываться предсказания (параметр predictionCol)."
      ],
      "metadata": {
        "id": "fMsi-JYVqvkX"
      }
    },
    {
      "cell_type": "code",
      "source": [
        "from pyspark.ml.classification import LogisticRegression\n",
        "\n",
        "lr = LogisticRegression(featuresCol=\"features\", labelCol=\"Churn_index\", predictionCol=\"prediction\")\n",
        "\n",
        "### Ваш код здесь ###"
      ],
      "metadata": {
        "id": "siYFALNhq_9F"
      },
      "execution_count": 46,
      "outputs": []
    },
    {
      "cell_type": "markdown",
      "source": [
        "2. Разделите датафрейм на обучающую и тестовую выборку."
      ],
      "metadata": {
        "id": "OCG0euR8v33u"
      }
    },
    {
      "cell_type": "code",
      "source": [
        "train, test = out_data.randomSplit([0.8, 0.2], seed = 42)\n",
        "### Ваш код здесь ###"
      ],
      "metadata": {
        "id": "g9PoHvGqvvET"
      },
      "execution_count": 47,
      "outputs": []
    },
    {
      "cell_type": "markdown",
      "source": [
        "3. Создайте объекты — сетки гиперпараметров для каждой модели, используя ParamGridBuilder. Так же, как и в ноутбуке из последнего видео, в сетку гиперпараметров можно добавить значения параметров regParam и elasticNetParam.\n",
        "\n",
        "Вы можете ознакомиться [с документацией объекта LogisticRegression в PySpark](https://spark.apache.org/docs/latest/api/python/reference/api/pyspark.ml.classification.LogisticRegression.html) и добавить в сетку больше параметров.\n"
      ],
      "metadata": {
        "id": "MyGEK9T_wGWd"
      }
    },
    {
      "cell_type": "code",
      "source": [
        "from pyspark.ml.tuning import ParamGridBuilder, CrossValidator\n",
        "import numpy as np\n",
        "\n",
        "### Ваш код здесь ###\n",
        "paramGrid = (ParamGridBuilder()\n",
        "             .addGrid(lr.regParam, np.arange(0.01, 2.0,0.1))\n",
        "             .addGrid(lr.elasticNetParam, np.arange(0.0,1.0,0.1))\n",
        "             .build())\n",
        "#"
      ],
      "metadata": {
        "id": "LsRwAy1TwDzF"
      },
      "execution_count": 48,
      "outputs": []
    },
    {
      "cell_type": "markdown",
      "source": [
        "4. Создайте объект evaluator, который будет отвечать за метрику качества при обучении. Для этого используйте класс BinaryClassificationEvaluator со следующими параметрами: rawPredictionCol — колонка с предсказаниями, labelCol — колонка с таргетом.\n",
        "\n",
        "У вас, возможно, возник вопрос, какую метрику качества берёт по умолчанию BinaryClassificationEvaluator. По умолчанию BinaryClassificationEvaluator будет рассчитывать areaUnderROC. Это метрика оценки площади под кривой ROC (Receiver Operating Characteristic), которая служит графической интерпретацией производительности модели. Эта метрика качества находится в пределах от 0 до 1. Чем выше метрика, тем более качественные предсказания делает модель."
      ],
      "metadata": {
        "id": "zg0lwkdoJjaQ"
      }
    },
    {
      "cell_type": "code",
      "source": [
        "from pyspark.ml.evaluation import BinaryClassificationEvaluator\n",
        "\n",
        "evaluator = BinaryClassificationEvaluator(rawPredictionCol=\"prediction\", labelCol=\"Churn_index\", metricName=\"areaUnderROC\")\n",
        "\n",
        "\n",
        "\n",
        "### Ваш код здесь ###"
      ],
      "metadata": {
        "id": "RrGPelUqMeoz"
      },
      "execution_count": 55,
      "outputs": []
    },
    {
      "cell_type": "markdown",
      "source": [
        "5. Создайте объект CrossValidator, в качестве параметров укажите уже созданные вами модель, сетку гиперпараметров и evaluator."
      ],
      "metadata": {
        "id": "7urf-OeRMTdC"
      }
    },
    {
      "cell_type": "code",
      "source": [
        "from pyspark.ml.tuning import CrossValidator\n",
        "\n",
        "### Ваш код здесь ###\n",
        "cross_validator = CrossValidator(estimator=lr,\n",
        "                                  estimatorParamMaps=paramGrid,\n",
        "                                  evaluator=evaluator,\n",
        "                                  numFolds=3)"
      ],
      "metadata": {
        "id": "CtmsG_rxSOOr"
      },
      "execution_count": 56,
      "outputs": []
    },
    {
      "cell_type": "code",
      "source": [
        "train.show(5)"
      ],
      "metadata": {
        "colab": {
          "base_uri": "https://localhost:8080/"
        },
        "id": "rCRWu3WT5q0x",
        "outputId": "e20f3fa1-033f-41a5-947a-22308e8b569f"
      },
      "execution_count": 57,
      "outputs": [
        {
          "output_type": "stream",
          "name": "stdout",
          "text": [
            "+-------------+------+--------------+------------+----------------+-------+------------+-------------+----------------+------------------+----------------------+-----------+-----------------------+-------------------------+------------------------+----------------------+--------------------------+---------------------+---------------------+-------------------------+-----------------------+--------------------+\n",
            "|SeniorCitizen|tenure|MonthlyCharges|TotalCharges|Contract_lasting|isLoyal|gender_index|Partner_index|Dependents_index|PhoneService_index|PaperlessBilling_index|Churn_index|MultipleLines_index_ohe|InternetService_index_ohe|OnlineSecurity_index_ohe|OnlineBackup_index_ohe|DeviceProtection_index_ohe|TechSupport_index_ohe|StreamingTV_index_ohe|StreamingMovies_index_ohe|PaymentMethod_index_ohe|            features|\n",
            "+-------------+------+--------------+------------+----------------+-------+------------+-------------+----------------+------------------+----------------------+-----------+-----------------------+-------------------------+------------------------+----------------------+--------------------------+---------------------+---------------------+-------------------------+-----------------------+--------------------+\n",
            "|            0|     0|          19.7|         0.0|              12|      0|         0.0|          1.0|             1.0|               0.0|                   0.0|        0.0|          (2,[0],[1.0])|                (2,[],[])|               (2,[],[])|             (2,[],[])|                 (2,[],[])|            (2,[],[])|            (2,[],[])|                (2,[],[])|          (3,[1],[1.0])|(31,[2,4,7,8,12,2...|\n",
            "|            0|     0|         19.85|         0.0|              24|      0|         0.0|          1.0|             1.0|               0.0|                   1.0|        0.0|          (2,[0],[1.0])|                (2,[],[])|               (2,[],[])|             (2,[],[])|                 (2,[],[])|            (2,[],[])|            (2,[],[])|                (2,[],[])|          (3,[1],[1.0])|(31,[2,4,7,8,10,1...|\n",
            "|            0|     0|         20.25|         0.0|              24|      0|         0.0|          0.0|             1.0|               0.0|                   1.0|        0.0|          (2,[0],[1.0])|                (2,[],[])|               (2,[],[])|             (2,[],[])|                 (2,[],[])|            (2,[],[])|            (2,[],[])|                (2,[],[])|          (3,[1],[1.0])|(31,[2,4,8,10,12,...|\n",
            "|            0|     0|         25.35|         0.0|              24|      0|         0.0|          1.0|             1.0|               0.0|                   1.0|        0.0|          (2,[1],[1.0])|                (2,[],[])|               (2,[],[])|             (2,[],[])|                 (2,[],[])|            (2,[],[])|            (2,[],[])|                (2,[],[])|          (3,[1],[1.0])|(31,[2,4,7,8,10,1...|\n",
            "|            0|     0|         25.75|         0.0|              24|      0|         0.0|          1.0|             1.0|               0.0|                   1.0|        0.0|          (2,[1],[1.0])|                (2,[],[])|               (2,[],[])|             (2,[],[])|                 (2,[],[])|            (2,[],[])|            (2,[],[])|                (2,[],[])|          (3,[1],[1.0])|(31,[2,4,7,8,10,1...|\n",
            "+-------------+------+--------------+------------+----------------+-------+------------+-------------+----------------+------------------+----------------------+-----------+-----------------------+-------------------------+------------------------+----------------------+--------------------------+---------------------+---------------------+-------------------------+-----------------------+--------------------+\n",
            "only showing top 5 rows\n",
            "\n"
          ]
        }
      ]
    },
    {
      "cell_type": "markdown",
      "source": [
        "6. Запустите обучение модели на тренировочной выборке. Сохраните обученную модель в новую переменную."
      ],
      "metadata": {
        "id": "Jmpv70TjZByl"
      }
    },
    {
      "cell_type": "code",
      "source": [
        "model = cross_validator.fit(train)\n",
        "### Ваш код здесь ###"
      ],
      "metadata": {
        "id": "uUxWevjEYOvX"
      },
      "execution_count": 58,
      "outputs": []
    },
    {
      "cell_type": "markdown",
      "source": [
        "#9. Выбор лучшей модели"
      ],
      "metadata": {
        "id": "WaIi8In5Zykn"
      }
    },
    {
      "cell_type": "markdown",
      "source": [
        "1. Выберите лучшую модель, сохраните её в отдельную переменную, отобразите её параметры.\n",
        "\n",
        "Вывод параметров модели в PySpark можно сделать, используя метод extractParamMap()."
      ],
      "metadata": {
        "id": "29eo5S_KZL4k"
      }
    },
    {
      "cell_type": "code",
      "source": [
        "best_model = model.bestModel\n",
        "best_model.extractParamMap()\n",
        "### Ваш код здесь ###"
      ],
      "metadata": {
        "id": "kJK-IrWLZbL-",
        "colab": {
          "base_uri": "https://localhost:8080/"
        },
        "outputId": "e1696e3c-96d1-45c2-ff60-b318ba8b4e3b"
      },
      "execution_count": 59,
      "outputs": [
        {
          "output_type": "execute_result",
          "data": {
            "text/plain": [
              "{Param(parent='LogisticRegression_785ae0f1ba60', name='aggregationDepth', doc='suggested depth for treeAggregate (>= 2).'): 2,\n",
              " Param(parent='LogisticRegression_785ae0f1ba60', name='elasticNetParam', doc='the ElasticNet mixing parameter, in range [0, 1]. For alpha = 0, the penalty is an L2 penalty. For alpha = 1, it is an L1 penalty.'): 0.0,\n",
              " Param(parent='LogisticRegression_785ae0f1ba60', name='family', doc='The name of family which is a description of the label distribution to be used in the model. Supported options: auto, binomial, multinomial'): 'auto',\n",
              " Param(parent='LogisticRegression_785ae0f1ba60', name='featuresCol', doc='features column name.'): 'features',\n",
              " Param(parent='LogisticRegression_785ae0f1ba60', name='fitIntercept', doc='whether to fit an intercept term.'): True,\n",
              " Param(parent='LogisticRegression_785ae0f1ba60', name='labelCol', doc='label column name.'): 'Churn_index',\n",
              " Param(parent='LogisticRegression_785ae0f1ba60', name='maxBlockSizeInMB', doc='maximum memory in MB for stacking input data into blocks. Data is stacked within partitions. If more than remaining data size in a partition then it is adjusted to the data size. Default 0.0 represents choosing optimal value, depends on specific algorithm. Must be >= 0.'): 0.0,\n",
              " Param(parent='LogisticRegression_785ae0f1ba60', name='maxIter', doc='max number of iterations (>= 0).'): 100,\n",
              " Param(parent='LogisticRegression_785ae0f1ba60', name='predictionCol', doc='prediction column name.'): 'prediction',\n",
              " Param(parent='LogisticRegression_785ae0f1ba60', name='probabilityCol', doc='Column name for predicted class conditional probabilities. Note: Not all models output well-calibrated probability estimates! These probabilities should be treated as confidences, not precise probabilities.'): 'probability',\n",
              " Param(parent='LogisticRegression_785ae0f1ba60', name='rawPredictionCol', doc='raw prediction (a.k.a. confidence) column name.'): 'rawPrediction',\n",
              " Param(parent='LogisticRegression_785ae0f1ba60', name='regParam', doc='regularization parameter (>= 0).'): 0.01,\n",
              " Param(parent='LogisticRegression_785ae0f1ba60', name='standardization', doc='whether to standardize the training features before fitting the model.'): True,\n",
              " Param(parent='LogisticRegression_785ae0f1ba60', name='threshold', doc='Threshold in binary classification prediction, in range [0, 1]. If threshold and thresholds are both set, they must match.e.g. if threshold is p, then thresholds must be equal to [1-p, p].'): 0.5,\n",
              " Param(parent='LogisticRegression_785ae0f1ba60', name='tol', doc='the convergence tolerance for iterative algorithms (>= 0).'): 1e-06}"
            ]
          },
          "metadata": {},
          "execution_count": 59
        }
      ]
    },
    {
      "cell_type": "markdown",
      "source": [
        "2. Запустите лучшую модель в режиме предсказания на тестовой выборке. Сохраните предсказания в отдельную переменную. Выведите первые несколько строк датафрейма с предсказаниями на экран.\n",
        "\n",
        "Запуск модели в режиме предсказания выполняется при помощи метода .transform(<тестовая выборка>)."
      ],
      "metadata": {
        "id": "1BIe8gqugBds"
      }
    },
    {
      "cell_type": "code",
      "source": [
        "ypred = best_model.transform(test)\n",
        "### Ваш код здесь ###"
      ],
      "metadata": {
        "id": "_K1IrbNzd1FX"
      },
      "execution_count": 60,
      "outputs": []
    },
    {
      "cell_type": "markdown",
      "source": [
        "3. Получите метрику качества модели. Для этого примените к объекту evaluator метод .evaluate(<ваш датафрейм с предсказаниями>).\n",
        "\n"
      ],
      "metadata": {
        "id": "gC41fZbahGCB"
      }
    },
    {
      "cell_type": "code",
      "source": [
        "evaluator.evaluate(ypred)\n",
        "### Ваш код здесь ###"
      ],
      "metadata": {
        "id": "CBzDaleQhejy",
        "colab": {
          "base_uri": "https://localhost:8080/"
        },
        "outputId": "7539e78e-45e7-420d-a266-a1ab81c48033"
      },
      "execution_count": 61,
      "outputs": [
        {
          "output_type": "execute_result",
          "data": {
            "text/plain": [
              "1.0"
            ]
          },
          "metadata": {},
          "execution_count": 61
        }
      ]
    },
    {
      "cell_type": "code",
      "source": [
        "lr2 = LogisticRegression(featuresCol=\"features\", labelCol=\"Churn_index\", predictionCol=\"prediction\",elasticNetParam=0,regParam=0.01)\n",
        "\n",
        "lr2 = lr2.fit(train)\n",
        "evaluator.evaluate(lr2.transform(test))"
      ],
      "metadata": {
        "colab": {
          "base_uri": "https://localhost:8080/"
        },
        "id": "uNVUBrXA_x9K",
        "outputId": "77b4c4a5-814a-4deb-fc74-fc395ab3b68e"
      },
      "execution_count": 73,
      "outputs": [
        {
          "output_type": "execute_result",
          "data": {
            "text/plain": [
              "1.0"
            ]
          },
          "metadata": {},
          "execution_count": 73
        }
      ]
    },
    {
      "cell_type": "code",
      "source": [],
      "metadata": {
        "id": "ZY6pzIZeAA-9"
      },
      "execution_count": null,
      "outputs": []
    },
    {
      "cell_type": "markdown",
      "source": [
        "#10. Обратная связь\n",
        "Вы ознакомились с возможностями двух мощных библиотек: PySpark SQL для предобработки данных и PySpark ML для машинного обучения."
      ],
      "metadata": {
        "id": "nieC-XnAl-4m"
      }
    },
    {
      "cell_type": "markdown",
      "source": [
        "Поделитесь впечатлениями от работы с новыми библиотеками. В чём они более удобны, чем уже знакомые вам Pandas и Sklearn, а в чём нет.\n",
        "\n",
        "Синтаксису нужно привыкнуть, ведь логик работы другая и отличаются реализаций и названия. А так если привыкнуть то классный инструмент. Обязательно надо попробовать реализовать проекты. Так же было бы интересно порешать задачи заточеные под инфраструктуру PySpark-а."
      ],
      "metadata": {
        "id": "axLO-xV3pJx2"
      }
    },
    {
      "cell_type": "markdown",
      "source": [
        "# Как отправить работу на проверку\n",
        "\n",
        "Загрузите файл с заданиями, откройте его через Jupyter Notebook в Google Colab. Скачайте файл с датасетом и загрузите его в Colab. Выполните задачи, сохраните изменения: воспользуйтесь опцией Save and Checkpoint из вкладки меню File или кнопкой Save and Checkpoint на панели инструментов. Отправьте через форму ниже итоговый файл Jupyter Notebook (.ipynb) или ссылку на него."
      ],
      "metadata": {
        "id": "V9TYdK5gl9P4"
      }
    }
  ]
}